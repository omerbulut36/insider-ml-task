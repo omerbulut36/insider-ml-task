{
 "cells": [
  {
   "cell_type": "code",
   "execution_count": 1,
   "id": "bd854867-8721-4b4d-8b66-b19d3e7d2b57",
   "metadata": {},
   "outputs": [
    {
     "name": "stderr",
     "output_type": "stream",
     "text": [
      "Matplotlib is building the font cache; this may take a moment.\n"
     ]
    }
   ],
   "source": [
    "import pandas as pd\n",
    "from sklearn.model_selection import train_test_split\n",
    "from sklearn.feature_extraction.text import TfidfVectorizer\n",
    "from nltk.tokenize import word_tokenize\n",
    "from nltk.stem import WordNetLemmatizer\n",
    "from nltk.corpus import stopwords\n",
    "import nltk\n",
    "from sklearn.linear_model import LogisticRegression\n",
    "from sklearn.model_selection import GridSearchCV\n",
    "from sklearn.metrics import classification_report, accuracy_score, precision_score, recall_score, f1_score\n",
    "from sklearn.ensemble import RandomForestClassifier\n",
    "from joblib import dump\n",
    "from sklearn.metrics import classification_report\n",
    "from sklearn.preprocessing import LabelEncoder\n",
    "from sklearn.naive_bayes import MultinomialNB\n",
    "import matplotlib.pyplot as plt\n",
    "import seaborn as sns"
   ]
  },
  {
   "cell_type": "code",
   "execution_count": null,
   "id": "64ad8c5a-e549-44f9-9362-ba82a42ba870",
   "metadata": {},
   "outputs": [],
   "source": [
    "# Gerekli nltk verilerini indirme\n",
    "nltk.download('punkt')\n",
    "nltk.download('stopwords')\n",
    "nltk.download('wordnet')"
   ]
  },
  {
   "cell_type": "code",
   "execution_count": 60,
   "id": "cb8e7603-956c-4f72-b74a-97d036f0cdc2",
   "metadata": {},
   "outputs": [],
   "source": [
    "# Dosya yolları\n",
    "categories_path = './dataset/Product_Categories.txt'\n",
    "explanations_path = './dataset/Product_Explanation.txt'"
   ]
  },
  {
   "cell_type": "code",
   "execution_count": 61,
   "id": "98af7b30-6311-4ad6-b591-58b7198e8f89",
   "metadata": {},
   "outputs": [],
   "source": [
    "def load_data(file_path, columns):\n",
    "    data = []\n",
    "    with open(file_path, 'r', encoding='utf-8') as file:\n",
    "        for line in file:\n",
    "            parts = line.strip().split(';', 1)\n",
    "            if len(parts) == 2:\n",
    "                data.append(parts)\n",
    "\n",
    "    df = pd.DataFrame(data, columns=columns)\n",
    "    return df\n",
    "\n",
    "# Verileri yükle\n",
    "df_categories = load_data(categories_path, ['id', 'category'])\n",
    "df_explanations = load_data(explanations_path, ['id', 'description'])"
   ]
  },
  {
   "cell_type": "code",
   "execution_count": 62,
   "id": "22676811-a425-4e25-8b8d-a396d4b9f871",
   "metadata": {},
   "outputs": [
    {
     "name": "stdout",
     "output_type": "stream",
     "text": [
      "           id                                           category\n",
      "0         116                           TELEKOM > AKILLI TELEFON\n",
      "1         462             Bilgisayar > Taşınabilir Bilgisayarlar\n",
      "2        1286                            Cep Telefonları > APPLE\n",
      "3        1290                          Cep Telefonları > SAMSUNG\n",
      "4        1300           Ev Elektroniği > Televizyonlar > SAMSUNG\n",
      "...       ...                                                ...\n",
      "1795  1040208  AirTies Air 2411 300mbps 11N Kablosuz USB Adaptör\n",
      "1796  1040520                   Canon CRG-731C Toner Kartuş Mavi\n",
      "1797  1040521                Canon CRG-731M Toner Kartuş Kırmızı\n",
      "1798  1040676  Zyxel NSA-325 2x4TB Disk Destekli Depolama Üni...\n",
      "1799  1041258  Corsair Force GS 240 GB SSD Disk CSSD-F240GBGS-BK\n",
      "\n",
      "[1800 rows x 2 columns]\n",
      "           id                                        description\n",
      "0         116                                               null\n",
      "1         462  HP Pavilion 11-n000nt Pentium N3540 4GB 750GB ...\n",
      "2        1286  STOKTAN AYNI GÜN TESLİM AYNI GÜN KARGO iPhone ...\n",
      "3        1290  Ağırlık (Gr.) 115 Boyut (mm.) 132.4 x 65.5 x 6...\n",
      "4        1300  ÖZELLİKLER Ekran Ekran Boyutu 48\" Ekran Boyutu...\n",
      "...       ...                                                ...\n",
      "1795  1040208                                                   \n",
      "1796  1040520  Baskı Rengi :MaviYazdırma Teknolojisi :LaserBa...\n",
      "1797  1040521  Baskı Rengi :KırmızıYazdırma Teknolojisi :Lase...\n",
      "1798  1040676  Disk Kapasite Aralığı :2 TB - 4 TBGaranti Süre...\n",
      "1799  1041258  Dahili / Harici :DahiliDisk Kapasite Aralığı :...\n",
      "\n",
      "[1800 rows x 2 columns]\n"
     ]
    }
   ],
   "source": [
    "# Veriyi görüntüleme\n",
    "print(df_categories)\n",
    "print(df_explanations)"
   ]
  },
  {
   "cell_type": "markdown",
   "id": "899995fe-9369-4fa4-8a4a-8675c757f1d5",
   "metadata": {},
   "source": [
    "#### İkiside 1800 satır "
   ]
  },
  {
   "cell_type": "code",
   "execution_count": 7,
   "id": "26677d4d-5226-49c7-adf9-e643fb1dac5d",
   "metadata": {},
   "outputs": [],
   "source": [
    "# Duplikasyonları kaldırma\n",
    "df_explanations =  df_explanations.drop_duplicates()\n",
    "df_categories = df_categories.drop_duplicates()"
   ]
  },
  {
   "cell_type": "code",
   "execution_count": 8,
   "id": "7994f6a7-653d-449b-a027-4bfb9e18c04c",
   "metadata": {},
   "outputs": [
    {
     "name": "stdout",
     "output_type": "stream",
     "text": [
      "1800\n"
     ]
    }
   ],
   "source": [
    "print(len(df_categories))"
   ]
  },
  {
   "cell_type": "code",
   "execution_count": 9,
   "id": "c765ae94-e46e-4c06-a5b4-5e37bbf6561c",
   "metadata": {},
   "outputs": [
    {
     "name": "stdout",
     "output_type": "stream",
     "text": [
      "1800\n"
     ]
    }
   ],
   "source": [
    "print(len(df_explanations))"
   ]
  },
  {
   "cell_type": "markdown",
   "id": "bb8710ee-cf7b-4c8d-bc39-042f79686116",
   "metadata": {},
   "source": [
    "#### Duplicate yokmuş hala ikiside 1800 satır"
   ]
  },
  {
   "cell_type": "code",
   "execution_count": 10,
   "id": "d84941a1-0390-49ca-b21c-d123c55e84a1",
   "metadata": {},
   "outputs": [
    {
     "name": "stdout",
     "output_type": "stream",
     "text": [
      "Toplam farklı kategori sayısı: 1165\n"
     ]
    }
   ],
   "source": [
    "# Unique kategori sayısını bul\n",
    "unique_categories = df_categories['category'].nunique()\n",
    "print(\"Toplam farklı kategori sayısı:\", unique_categories)"
   ]
  },
  {
   "cell_type": "code",
   "execution_count": 11,
   "id": "973070ed-dab0-458d-b88f-51383c3d7e47",
   "metadata": {},
   "outputs": [
    {
     "name": "stdout",
     "output_type": "stream",
     "text": [
      "category\n",
      "                                                              29\n",
      "Bilgisayar Ürünleri > Tüketim Malzemeleri > Kartuş            12\n",
      "Telefon > Cep Telefonu                                        11\n",
      "Toner Kartuş Şerit > Kartuş                                   11\n",
      "Yazılım > Oyunlar > PC > ARAL                                 10\n",
      "                                                              ..\n",
      "BİLGİSAYAR > AĞ/MODEM > MODEM                                  1\n",
      "OEM Ürünleri > Soğutma Sistemleri > İşlemci > ZALMAN           1\n",
      "Fotoğraf Makinesi Aksesuarı > Addison                          1\n",
      "OEM Ürünleri > Soğutma Sistemleri > Sıvı Soğutma > CORSAIR     1\n",
      "Corsair Force GS 240 GB SSD Disk CSSD-F240GBGS-BK              1\n",
      "Name: count, Length: 1165, dtype: int64\n"
     ]
    }
   ],
   "source": [
    "# Kategori ve id sayımlarını hesaplar\n",
    "category_counts = df_categories['category'].value_counts()\n",
    "print(category_counts)"
   ]
  },
  {
   "cell_type": "markdown",
   "id": "06d45062-3758-4e00-baee-da550ede0671",
   "metadata": {},
   "source": [
    "##### 29 tane (null) kategoriye girmemiş açıklama var"
   ]
  },
  {
   "cell_type": "code",
   "execution_count": 12,
   "id": "e35c495a-7280-4ba7-8e26-b2208d6180b5",
   "metadata": {},
   "outputs": [
    {
     "name": "stdout",
     "output_type": "stream",
     "text": [
      "id\n",
      "116        1\n",
      "565807     1\n",
      "543204     1\n",
      "541486     1\n",
      "539690     1\n",
      "          ..\n",
      "185447     1\n",
      "185357     1\n",
      "185348     1\n",
      "185177     1\n",
      "1041258    1\n",
      "Name: count, Length: 1800, dtype: int64\n"
     ]
    }
   ],
   "source": [
    "id_counts = df_categories['id'].value_counts()\n",
    "print(id_counts)"
   ]
  },
  {
   "cell_type": "code",
   "execution_count": 13,
   "id": "ec2b2c48-ff96-48ae-9c6f-19e47085832f",
   "metadata": {},
   "outputs": [
    {
     "name": "stdout",
     "output_type": "stream",
     "text": [
      "description\n",
      "null                           190\n",
      "                               128\n",
      "Garanti Süresi: 24 Ay 24 Ay     20\n",
      "Ürün Hakkında                   18\n",
      "Teknik Özellikler                7\n",
      "Name: count, dtype: int64\n"
     ]
    }
   ],
   "source": [
    "desc_counts = df_explanations['description'].value_counts()\n",
    "print(desc_counts[:5])"
   ]
  },
  {
   "cell_type": "markdown",
   "id": "17d4fc43-dc90-4269-98d7-96c9ba63f313",
   "metadata": {},
   "source": [
    "#### null ve boş stringler var"
   ]
  },
  {
   "cell_type": "code",
   "execution_count": 14,
   "id": "9eaf7769-b4c8-4af6-9b0e-1f2fa3c9ab52",
   "metadata": {},
   "outputs": [],
   "source": [
    "# Kategorileri ve açıklamaları birleştirme\n",
    "df = pd.merge(df_categories, df_explanations, on='id', how='inner')"
   ]
  },
  {
   "cell_type": "markdown",
   "id": "eba85a34-5653-4433-a088-e2972df6cb3e",
   "metadata": {},
   "source": [
    "#### inner join, her iki veri çerçevesinde de bulunan ortak anahtarları (bu örnekte id sütunu) kullanarak birleştirme yapar. Yani, her iki veri çerçevesinde de mevcut olan id değerlerini içeren satırlar birleştirilir. how='inner' seçeneğini kullanmanın temel nedeni, veri çerçevelerini yalnızca her iki çerçevede de mevcut olan ortak anahtarlar (id) üzerinden birleştirerek veri tutarlılığını ve kalitesini artırmaktır. Bu yüzden inner joini tercih ettim."
   ]
  },
  {
   "cell_type": "code",
   "execution_count": 15,
   "id": "5bb30fd1-238f-4e21-92ac-82938beb5e42",
   "metadata": {
    "scrolled": true
   },
   "outputs": [
    {
     "name": "stdout",
     "output_type": "stream",
     "text": [
      "           id                                           category description\n",
      "0         116                           TELEKOM > AKILLI TELEFON        <NA>\n",
      "6        2021                                Cep Telefonu > Sony        <NA>\n",
      "18       6272                               OEM > Ekran Kartları        <NA>\n",
      "26       8941                                    MP3 > MP3 ÇALAR        <NA>\n",
      "30      10082     TV & Görüntü Sistemleri > Ev Sinema Sistemleri        <NA>\n",
      "...       ...                                                ...         ...\n",
      "1658   871404         Bilgisayar > Yazıcılar > Kartuş-Toner-Drum        <NA>\n",
      "1670   942081  Bilgisayar > Bilgisayar Bileşenleri > Tüketim ...        <NA>\n",
      "1675   948795  Bilgisayar > Çevre Birimleri > Yazıcılar > Mür...        <NA>\n",
      "1786  1038509     AirTies 5750 ADSL2+/VDSL 1600 Mbps 11 AC Modem        <NA>\n",
      "1795  1040208  AirTies Air 2411 300mbps 11N Kablosuz USB Adaptör        <NA>\n",
      "\n",
      "[318 rows x 3 columns]\n",
      "          id category                                        description\n",
      "17      6152     <NA>  Detaylar Marka Samsung Bellek(MB) 2 GB RAM Blu...\n",
      "78     18157     <NA>  Canon EOS 600D EOS maceranız burada başlıyor. ...\n",
      "117    26506     <NA>                                               <NA>\n",
      "135    32560     <NA>  Detaylar Sony'nin en son Android telefonunun h...\n",
      "145    37565     <NA>  Outlet ürünlerinde, ürünün arızalı olması dışı...\n",
      "261    65072     <NA>  2 yıl ithalatçı garantisindedir. Xperia Z2, an...\n",
      "269    65766     <NA>                                               <NA>\n",
      "273    66717     <NA>                                               <NA>\n",
      "274    66721     <NA>                                               <NA>\n",
      "301    71125     <NA>  Ağırlık (Gr.)115 Boyut (mm.)132.4 x 65.5 x 6.7...\n",
      "578   175577     <NA>                                               <NA>\n",
      "633   202225     <NA>  Detaylar iPhone 6 yalnızca daha büyük değil, h...\n",
      "690   223807     <NA>                                               <NA>\n",
      "752   250281     <NA>  Uygarlığın erişemediği bir yerde, şiddetle yön...\n",
      "764   255261     <NA>                                               <NA>\n",
      "811   269656     <NA>                                               <NA>\n",
      "834   289449     <NA>  Bu koleksiyon en çok satan* 2 Kinect oyununu b...\n",
      "835   289682     <NA>                                               <NA>\n",
      "839   291291     <NA>                                               <NA>\n",
      "840   291293     <NA>      Logitech Z150 1+1 Siyah Speaker 6W 980-000814\n",
      "841   294157     <NA>                                               <NA>\n",
      "857   304869     <NA>                                               <NA>\n",
      "866   310148     <NA>  Battlefield 3’te kullanılan oyun motoru Frostb...\n",
      "895   327856     <NA>                                               <NA>\n",
      "901   328862     <NA>                                       Pc Prototype\n",
      "931   345414     <NA>                                               <NA>\n",
      "1060  444799     <NA>  Detaylar TEKNIK ÖZELLİKLER Ortalama Şarj Süres...\n",
      "1198  536141     <NA>  Detaylar Marka - NikonModel - D810 BodyGenel Ö...\n",
      "1199  536169     <NA>  Detaylar TEKNİK ÖZELLİKLER Ürün Kodu119966914 ...\n"
     ]
    }
   ],
   "source": [
    "# 'null' değerlerini eksik veri olarak işaretler\n",
    "df.replace('null', pd.NA, inplace=True)\n",
    "df.replace('', pd.NA, inplace=True)\n",
    "print(df[df[\"description\"].isnull()])\n",
    "print(df[df[\"category\"].isnull()])"
   ]
  },
  {
   "cell_type": "code",
   "execution_count": 16,
   "id": "282fd9d1-2e1a-4fca-8c1b-85b30b1f1880",
   "metadata": {},
   "outputs": [],
   "source": [
    "# Kategorileri gruplandırma ve en çok tekrar edenleri bulma\n",
    "category_counts = df['category'].value_counts()"
   ]
  },
  {
   "cell_type": "code",
   "execution_count": 17,
   "id": "e6e712a5-732a-455c-8aac-1c387d4bd720",
   "metadata": {},
   "outputs": [],
   "source": [
    "# En çok tekrar eden ilk 10 kategoriyi seçme\n",
    "top_categories = category_counts.head(10)"
   ]
  },
  {
   "cell_type": "code",
   "execution_count": 18,
   "id": "c4026fd2-51f4-4c9d-b953-143abf4bf3f5",
   "metadata": {},
   "outputs": [],
   "source": [
    "# Kategorilerin isimlerini al\n",
    "top_category_names = top_categories.index"
   ]
  },
  {
   "cell_type": "code",
   "execution_count": 19,
   "id": "cf2b3173-2897-4a7d-8061-0470ab8099f0",
   "metadata": {},
   "outputs": [
    {
     "name": "stderr",
     "output_type": "stream",
     "text": [
      "/var/folders/lb/9x3f70y57xg2vhmd37q2ysgc0000gn/T/ipykernel_5591/1152349498.py:3: FutureWarning: \n",
      "\n",
      "Passing `palette` without assigning `hue` is deprecated and will be removed in v0.14.0. Assign the `x` variable to `hue` and set `legend=False` for the same effect.\n",
      "\n",
      "  sns.barplot(x=top_category_names, y=top_categories.values, palette='viridis', legend=False)\n"
     ]
    },
    {
     "data": {
      "image/png": "[encoded data removed]",
      "text/plain": [
       "<Figure size 1400x700 with 1 Axes>"
      ]
     },
     "metadata": {},
     "output_type": "display_data"
    }
   ],
   "source": [
    "# Görselleştirme\n",
    "plt.figure(figsize=(14, 7))\n",
    "sns.barplot(x=top_category_names, y=top_categories.values, palette='viridis', legend=False)\n",
    "plt.xlabel('Kategori')\n",
    "plt.ylabel('Sayı')\n",
    "plt.title('En Çok Tekrar Eden İlk 10 Kategori')\n",
    "plt.xticks(rotation=45, ha='right')\n",
    "plt.tight_layout()\n",
    "plt.show()"
   ]
  },
  {
   "cell_type": "code",
   "execution_count": 20,
   "id": "1343420a-e899-42a1-8071-f0994de1e0b6",
   "metadata": {},
   "outputs": [
    {
     "data": {
      "image/png": "[encoded data removed]",
      "text/plain": [
       "<Figure size 1400x700 with 1 Axes>"
      ]
     },
     "metadata": {},
     "output_type": "display_data"
    }
   ],
   "source": [
    "# Tüm kategorilerin tekrar sayıları için bir dağılım grafiği oluşturma\n",
    "plt.figure(figsize=(14, 7))\n",
    "sns.histplot(category_counts.values, kde=True, bins=30, color='blue')\n",
    "plt.xlabel('Tekrar Sayısı')\n",
    "plt.ylabel('Kategori Sayısı')\n",
    "plt.title('Tüm Kategorilerin Tekrar Sayılarının Dağılımı')\n",
    "plt.tight_layout()\n",
    "plt.show()"
   ]
  },
  {
   "cell_type": "code",
   "execution_count": 21,
   "id": "bdf1ef01-d701-418a-b233-c066e3feeae1",
   "metadata": {},
   "outputs": [
    {
     "name": "stdout",
     "output_type": "stream",
     "text": [
      "Bir kere geçen kategori sayısı: 830\n"
     ]
    }
   ],
   "source": [
    "# Bir kere geçen kategori sayısını bulma\n",
    "single_occurrence_categories = category_counts[category_counts == 1].count()\n",
    "print(f\"Bir kere geçen kategori sayısı: {single_occurrence_categories}\")"
   ]
  },
  {
   "cell_type": "code",
   "execution_count": 23,
   "id": "6b9f5c26-7029-45d4-a17a-c3fc11c434d0",
   "metadata": {},
   "outputs": [
    {
     "name": "stdout",
     "output_type": "stream",
     "text": [
      "id               0\n",
      "category        29\n",
      "description    318\n",
      "dtype: int64\n"
     ]
    }
   ],
   "source": [
    "# Eksik verilerin kontrolü\n",
    "print(df.isnull().sum())"
   ]
  },
  {
   "cell_type": "code",
   "execution_count": 24,
   "id": "461614f4-0db9-4d9f-8382-29537ee08f75",
   "metadata": {},
   "outputs": [
    {
     "name": "stdout",
     "output_type": "stream",
     "text": [
      "id              0.000000\n",
      "category        1.611111\n",
      "description    17.666667\n",
      "dtype: float64\n"
     ]
    }
   ],
   "source": [
    "# Eksik verinin dataya oranını hesaplar\n",
    "missing_data_percentage = df.isnull().mean() * 100\n",
    "print(missing_data_percentage)"
   ]
  },
  {
   "cell_type": "code",
   "execution_count": 25,
   "id": "4ad937a0-d759-47b8-84c2-e9be6424edb0",
   "metadata": {},
   "outputs": [],
   "source": [
    "# Category sütunundaki eksik verileri Other ile doldurur\n",
    "df.loc[df['category'].isnull(), 'category'] = 'Other'"
   ]
  },
  {
   "cell_type": "markdown",
   "id": "ccca22f8-a2a2-43af-985f-e1b2de2e29cb",
   "metadata": {},
   "source": [
    "#### Description eksik olan kategorilerin açıklamalarını, aynı kategoriye ait açıklamaların bulunduğu satırlardan rastgele seçerek doldurmayı amaçlamaktadır.\n"
   ]
  },
  {
   "cell_type": "code",
   "execution_count": 26,
   "id": "b1a1c7c6-b7da-48db-bb91-1b61dc2ad47d",
   "metadata": {
    "scrolled": true
   },
   "outputs": [],
   "source": [
    "missing_desc_df = df[df['description'].isnull()]\n",
    "missing_cat_list = missing_desc_df['category']\n",
    "missing_desc_cat_map_df = df[(df['category'].isin(missing_cat_list)) & (~df['description'].isnull())]\n",
    "missing_desc_cat_map_df\n",
    "\n",
    "for index, row in missing_desc_df.iterrows():\n",
    "    descs = missing_desc_cat_map_df[missing_desc_cat_map_df['category'] == row['category']]['description']\n",
    "    if len(descs) == 0:\n",
    "        continue\n",
    "    desc = descs.sample(1).values[0]\n",
    "    df.loc[index, 'description'] = desc"
   ]
  },
  {
   "cell_type": "code",
   "execution_count": 27,
   "id": "4dd6ff56-d4b7-42b5-b68a-e8a878832b2c",
   "metadata": {
    "collapsed": true,
    "jupyter": {
     "outputs_hidden": true
    },
    "scrolled": true
   },
   "outputs": [
    {
     "name": "stdout",
     "output_type": "stream",
     "text": [
      "<class 'pandas.core.frame.DataFrame'>\n",
      "RangeIndex: 1800 entries, 0 to 1799\n",
      "Data columns (total 3 columns):\n",
      " #   Column       Non-Null Count  Dtype \n",
      "---  ------       --------------  ----- \n",
      " 0   id           1800 non-null   object\n",
      " 1   category     1800 non-null   object\n",
      " 2   description  1546 non-null   object\n",
      "dtypes: object(3)\n",
      "memory usage: 42.3+ KB\n",
      "None\n"
     ]
    }
   ],
   "source": [
    "# Veriyi inceleme\n",
    "print(df.info())"
   ]
  },
  {
   "cell_type": "markdown",
   "id": "e6eb2c1b-f1dc-463e-8c84-ce0ce8cae981",
   "metadata": {},
   "source": [
    "#### Eksik verileri droplar"
   ]
  },
  {
   "cell_type": "code",
   "execution_count": 28,
   "id": "409dd7ab-313a-4168-8997-ddd2aeb50a7b",
   "metadata": {},
   "outputs": [],
   "source": [
    "df = df.dropna()"
   ]
  },
  {
   "cell_type": "markdown",
   "id": "d12596fd-1a50-4288-90be-7ef47f01f035",
   "metadata": {},
   "source": [
    "### Aşğıdaki kısımda description kısmındaki texti ikiye bölüp ekstra satır olarak ekleyip datamı genişletmeye çalıştım ama daha iyi bir sonuç alamadım."
   ]
  },
  {
   "cell_type": "code",
   "execution_count": 29,
   "id": "68d38b2a-8414-4f9d-a1fb-b52b55353a48",
   "metadata": {},
   "outputs": [],
   "source": [
    "#def sssplit(text):\n",
    " #   l = len(text) // 2\n",
    " #   return [text[:l], text[l:]]"
   ]
  },
  {
   "cell_type": "code",
   "execution_count": 30,
   "id": "3c28079d-2861-4e32-ae8b-3d5f595098de",
   "metadata": {},
   "outputs": [],
   "source": [
    "#df['description'] = df['description'].apply(sssplit)"
   ]
  },
  {
   "cell_type": "code",
   "execution_count": 31,
   "id": "ddad83a6-49de-48de-9ba8-ee2603019000",
   "metadata": {},
   "outputs": [],
   "source": [
    "#df = df.explode('description')"
   ]
  },
  {
   "cell_type": "code",
   "execution_count": 32,
   "id": "b532d90b-bde2-4ed9-82b4-80dda6528e3b",
   "metadata": {},
   "outputs": [
    {
     "name": "stdout",
     "output_type": "stream",
     "text": [
      "<class 'pandas.core.frame.DataFrame'>\n",
      "Index: 1546 entries, 1 to 1799\n",
      "Data columns (total 3 columns):\n",
      " #   Column       Non-Null Count  Dtype \n",
      "---  ------       --------------  ----- \n",
      " 0   id           1546 non-null   object\n",
      " 1   category     1546 non-null   object\n",
      " 2   description  1546 non-null   object\n",
      "dtypes: object(3)\n",
      "memory usage: 48.3+ KB\n",
      "None\n"
     ]
    }
   ],
   "source": [
    "print(df.info())"
   ]
  },
  {
   "cell_type": "code",
   "execution_count": 33,
   "id": "00d85a7c-ea4c-402a-9699-a45286e1df55",
   "metadata": {},
   "outputs": [],
   "source": [
    "# Lemmatizer oluşturma\n",
    "lemmatizer = WordNetLemmatizer()"
   ]
  },
  {
   "cell_type": "code",
   "execution_count": 35,
   "id": "4664cd6e-31f7-4360-9fb3-c4fe21000ab3",
   "metadata": {},
   "outputs": [],
   "source": [
    "# Metin önişleme fonksiyonu\n",
    "def preprocess_text(text):\n",
    "    text = text.lower()  # Küçük harfe çevirir\n",
    "    tokens = word_tokenize(text)  # Tokenize eder\n",
    "    tokens = [lemmatizer.lemmatize(word) for word in tokens if word.isalpha()]  # Lemmatize eder ve sadece alfabetik kelimeleri tutar.\n",
    "    stop_words = set(stopwords.words('turkish'))  # Türkçe stop words\n",
    "    tokens = [word for word in tokens if word not in stop_words]  # Stop words'leri çıkarır.\n",
    "    return ' '.join(tokens)"
   ]
  },
  {
   "cell_type": "code",
   "execution_count": 36,
   "id": "75a35827-2117-4437-848d-5515acf7c91d",
   "metadata": {},
   "outputs": [],
   "source": [
    "# Açıklama sütununu önişler\n",
    "df['description'] = df['description'].apply(preprocess_text)"
   ]
  },
  {
   "cell_type": "code",
   "execution_count": 37,
   "id": "44cf2e04-81cd-479f-9f0c-5055b1e1c966",
   "metadata": {},
   "outputs": [],
   "source": [
    "# Veriyi eğitim ve test olarak böler verinin %10 unu test %90 ını train olarak ayırdım.\n",
    "X_train, X_test, y_train, y_test = train_test_split(df['description'], df['category'], test_size=0.1, random_state=42)"
   ]
  },
  {
   "cell_type": "markdown",
   "id": "e9d7469b-7787-4c16-a6da-57584371a7ca",
   "metadata": {},
   "source": [
    "gram_range=(1, 2), max_features=80 açıkla"
   ]
  },
  {
   "cell_type": "code",
   "execution_count": 38,
   "id": "43929234-f587-4ea8-99a6-34b8e1bc6b3c",
   "metadata": {},
   "outputs": [],
   "source": [
    "# TF-IDF Vektörleştirme\n",
    "vectorizer = TfidfVectorizer(ngram_range=(1, 2), max_features=800)\n",
    "X_train_tfidf = vectorizer.fit_transform(X_train)\n",
    "X_test_tfidf = vectorizer.transform(X_test)"
   ]
  },
  {
   "cell_type": "code",
   "execution_count": 39,
   "id": "220485ac-6a96-40f5-b192-963bd5806c8b",
   "metadata": {},
   "outputs": [
    {
     "name": "stdout",
     "output_type": "stream",
     "text": [
      "(1391, 800)\n",
      "(155, 800)\n"
     ]
    }
   ],
   "source": [
    "# TF-IDF vektörlerinin boyutunu kontrol eder.\n",
    "print(X_train_tfidf.shape)\n",
    "print(X_test_tfidf.shape)"
   ]
  },
  {
   "cell_type": "code",
   "execution_count": 40,
   "id": "7b6aa0c7-d6f6-433d-8760-c0108d157371",
   "metadata": {},
   "outputs": [],
   "source": [
    "# Lojistik Regresyon Modeli ve Hiperparametreler\n",
    "log_reg = LogisticRegression(max_iter=1000, class_weight='balanced')\n",
    "param_grid = {'C': [0.1, 1, 10], 'solver': ['liblinear', 'saga']}\n",
    "grid_search = GridSearchCV(log_reg, param_grid, cv=3, scoring='accuracy')"
   ]
  },
  {
   "cell_type": "markdown",
   "id": "4c3b1c8b-d258-4aa4-b9e7-5920d8fda0d9",
   "metadata": {},
   "source": [
    "#### C ve solver, modelin en temel iki yönünü doğrudan kontrol eder: regularizasyon ve optimizasyon. Bu iki parametre, modelin karmaşıklığını ve performansını büyük ölçüde etkiler. Bu yüzden bu paremetreleri seçtim."
   ]
  },
  {
   "cell_type": "code",
   "execution_count": 41,
   "id": "38264036-7819-4e17-a1c7-7a89992f80c9",
   "metadata": {},
   "outputs": [
    {
     "name": "stderr",
     "output_type": "stream",
     "text": [
      "/opt/anaconda3/envs/ml/lib/python3.12/site-packages/sklearn/model_selection/_split.py:725: UserWarning: The least populated class in y has only 1 members, which is less than n_splits=3.\n",
      "  warnings.warn(\n"
     ]
    },
    {
     "name": "stdout",
     "output_type": "stream",
     "text": [
      "En iyi parametreler: {'C': 10, 'solver': 'liblinear'}\n",
      "En iyi doğruluk: 0.20129372408827984\n"
     ]
    }
   ],
   "source": [
    "# Grid Search ile en iyi parametreleri bulma\n",
    "grid_search.fit(X_train_tfidf, y_train)\n",
    "best_log_reg_params = grid_search.best_params_\n",
    "print(f\"En iyi parametreler: {best_log_reg_params}\")\n",
    "print(f\"En iyi doğruluk: {grid_search.best_score_}\")"
   ]
  },
  {
   "cell_type": "code",
   "execution_count": 42,
   "id": "57dae311-3dd0-48d7-9ada-d8a77b50a14a",
   "metadata": {},
   "outputs": [],
   "source": [
    "# En iyi parametreleri kullanarak lojistik regresyon modelini eğitme\n",
    "best_log_reg_model = LogisticRegression(max_iter=1000, class_weight='balanced', **best_log_reg_params)\n",
    "best_log_reg_model.fit(X_train_tfidf, y_train)\n",
    "y_pred = best_log_reg_model.predict(X_test_tfidf)"
   ]
  },
  {
   "cell_type": "code",
   "execution_count": 43,
   "id": "a978af6f-0ff1-41be-882f-f92946ac4d93",
   "metadata": {
    "scrolled": true
   },
   "outputs": [
    {
     "name": "stdout",
     "output_type": "stream",
     "text": [
      "Test seti doğruluğu: 0.1935483870967742\n",
      "Test seti F1 skoru: 0.19032258064516128\n"
     ]
    }
   ],
   "source": [
    "# Performans Metrikleri\n",
    "print(f\"Test seti doğruluğu: {accuracy_score(y_test, y_pred)}\")\n",
    "print(f\"Test seti F1 skoru: {f1_score(y_test, y_pred, average='weighted')}\")"
   ]
  },
  {
   "cell_type": "markdown",
   "id": "c3b4caf8-9379-42b2-9ba0-f71ca80324c9",
   "metadata": {},
   "source": [
    "#### Accuracy (Doğruluk), modelin tüm örnekler arasında ne kadar doğru tahmin yaptığını gösterir.\n",
    "#### F1 SKORU, precision (kesinlik) ve recall (duyarlılık) metriklerinin harmonik ortalamasıdır. \n",
    "#### Tek bir metrik, tüm performans ölçütlerini yansıtamayabilir. Accuracy yüksek olabilir, ancak bu, modelin belirli sınıflar üzerinde iyi performans gösterdiği anlamına gelmeyebilir. F1 skoru, precision ve recall arasındaki dengeyi sağlayarak daha adil bir değerlendirme sunar."
   ]
  },
  {
   "cell_type": "code",
   "execution_count": 44,
   "id": "829406a4-623f-4d13-8397-f6b1c2b16477",
   "metadata": {
    "collapsed": true,
    "jupyter": {
     "outputs_hidden": true
    },
    "scrolled": true
   },
   "outputs": [
    {
     "name": "stdout",
     "output_type": "stream",
     "text": [
      "Lojistik Regresyon Sınıflandırma Raporu:\n",
      "                                                                                                                                       precision    recall  f1-score   support\n",
      "\n",
      "                                                                                         Aile Sağlığı ve Bakımı > Ağız ve Diş Sağlığı       0.00      0.00      0.00         0\n",
      "                                                                      Aksesuar & Sarf Malz. > Projeksiyon Aksesuarları > Askı Aparatı       1.00      1.00      1.00         1\n",
      "                                                                                  Aksesuar & Sarf Malz. > Çantalar > Tablet Çantaları       0.00      0.00      0.00         1\n",
      "                                                                                                  Aksesuar & Sarf Malz. > Çeviriciler       0.00      0.00      0.00         1\n",
      "                                             Aksesuar > Çanta - Kılıf > Tablet Kılıfı > Addison IP-262 7\" Tablet Kılıfı Standlı Pembe       0.00      0.00      0.00         1\n",
      "                                                                    Aksesuar Ürünleri > Kablolar > USB Bağlantı Kabloları > ENERGIZER       0.00      0.00      0.00         2\n",
      "                                                                                Aksesuar Ürünleri > Kart Okuyucular > Harici > FRISBY       0.00      0.00      0.00         0\n",
      "                                                                Aksesuar Ürünleri > Kulaklık ve Mikrofon > HeadSet Kulaklık > PHILIPS       0.00      0.00      0.00         1\n",
      "                                                                  Aksesuar Ürünleri > Kulaklık ve Mikrofon > HeadSet Kulaklık > SNOPY       0.00      0.00      0.00         0\n",
      "                                                                 Aksesuar Ürünleri > Kulaklık ve Mikrofon > Oyun Kulaklığı > CREATIVE       0.00      0.00      0.00         0\n",
      "                                                                 Aksesuar Ürünleri > Kulaklık ve Mikrofon > Oyun Kulaklığı > LOGITECH       0.00      0.00      0.00         1\n",
      "                                                      Aksesuar Ürünleri > Notebook Soğutucu > Notebook Soğutucu Stant > COOLER MASTER       0.00      0.00      0.00         0\n",
      "                                                        Aksesuar Ürünleri > Piller ve Şarj Aletleri > Telefon Şarj Aletleri > PHILIPS       0.00      0.00      0.00         0\n",
      "                                                                Aksesuar Ürünleri > Çantalar ve Kılıflar > Tablet Kılıfları > ADDISON       0.00      0.00      0.00         0\n",
      "                                                             Aksesuar Ürünleri > Çantalar ve Kılıflar > Tablet Kılıfları > CASE LOGIC       0.00      0.00      0.00         0\n",
      "                                                                                                                              Anakart       0.00      0.00      0.00         0\n",
      "                                                                                                        Asus ME176CX-1B008A Tablet Pc       0.00      0.00      0.00         1\n",
      "                                                                                           Baskı Ürünleri > Aksesuar ve Sarf > Kartuş       0.00      0.00      0.00         0\n",
      "                                                                                            Baskı Ürünleri > Aksesuar ve Sarf > Toner       0.00      0.00      0.00         1\n",
      "                                                                                                                         Bellek (RAM)       0.00      0.00      0.00         0\n",
      "                                                                                                        Bilg.Parçaları > Power Supply       0.00      0.00      0.00         0\n",
      "                                                                                                       Bilg.Parçaları > Sabit Diskler       0.00      0.00      0.00         1\n",
      "                                                                                   Bilgisayar >  Bilgisayar Bileşenleri >  Anakartlar       0.00      0.00      0.00         1\n",
      "                                                                                                   Bilgisayar > Ag / Modem > Modemler       0.00      0.00      0.00         1\n",
      "                                                                                           Bilgisayar > Ag / Modem > Network Kartları       0.00      0.00      0.00         1\n",
      "                                                                              Bilgisayar > Baskı, Printer, Fax > Mürekkep Püskürtmeli       0.00      0.00      0.00         1\n",
      "                                                                                  Bilgisayar > Bilgisayar Aksesuarlar > Disk Kutuları       0.00      0.00      0.00         1\n",
      "                                                                          Bilgisayar > Bilgisayar Aksesuarlar > Notebook Soğutucuları       0.00      0.00      0.00         1\n",
      "                                                                                       Bilgisayar > Bilgisayar Aksesuarlar > Çantalar       0.50      1.00      0.67         1\n",
      "                                                                                  Bilgisayar > Bilgisayar Aksesuarları > Kart okuyucu       0.00      0.00      0.00         1\n",
      "                                                    Bilgisayar > Bilgisayar Aksesuarları > Notebook Aksesuarları > Notebook Mouseları       0.00      0.00      0.00         0\n",
      "                                                                           Bilgisayar > Bilgisayar Aksesuarları > Tablet Aksesuarları       0.00      0.00      0.00         1\n",
      "                                                            Bilgisayar > Bilgisayar Bilesenleri > Bellek (Ram) > Masaüstü Bellek(Ram)       0.00      0.00      0.00         1\n",
      "                                                              Bilgisayar > Bilgisayar Bileşenleri (O.E.M) > Anakartlar > INTEL Uyumlu       0.00      0.00      0.00         0\n",
      "                                                                Bilgisayar > Bilgisayar Bileşenleri (O.E.M) > SSD (Solid State Drive)       0.00      0.00      0.00         0\n",
      "                                  Bilgisayar > Bilgisayar Bileşenleri > Anakartlar > GIGABYTE Z97X-GAMING5 S/L/V PCI HDMI SLI LGA1150       0.00      0.00      0.00         1\n",
      "                                                                                   Bilgisayar > Bilgisayar Bileşenleri > Kasa Fanları       0.00      0.00      0.00         0\n",
      "                                                                        Bilgisayar > Bilgisayar Bileşenleri > Overclock / Soğutucular       0.00      0.00      0.00         1\n",
      "                                                                                   Bilgisayar > Bilgisayar Bileşenleri > Ram (Hafıza)       0.00      0.00      0.00         0\n",
      "                               Bilgisayar > Bilgisayar Bileşenleri > Soğutucular > CORSAIR H100i Hydro Serisi Sıvı CPU Soğutma Sistem       0.00      0.00      0.00         1\n",
      "                                                        Bilgisayar > Bilgisayar Bileşenleri > Tüketim Malzemeleri > Yazıcı Kartuşları       0.00      0.00      0.00         0\n",
      "                                                             Bilgisayar > Bilgisayar Parçaları > Bellek (Ram) > DDR3 Ramlar > Corsair       0.00      0.00      0.00         0\n",
      "                                                Bilgisayar > Bilgisayar Parçaları > Hoparlör/Kulaklık/Ses > 2+1 Hoparlörler > Edifier       0.00      0.00      0.00         0\n",
      "                                                Bilgisayar > Bilgisayar Parçaları > Sabit / Taşınabilir Disk > Ssd Harddisk > Corsair       0.00      0.00      0.00         1\n",
      "                                                          Bilgisayar > Bilgisayar Parçaları > Tüketim Malzemeleri > Kartuşlar > Epson       0.00      0.00      0.00         1\n",
      "                                                      Bilgisayar > Bilgisayar Parçaları > Yazıcı / Tarayıcı > Çok Fonksiyonlu > Canon       0.00      0.00      0.00         0\n",
      "                                                         Bilgisayar > Bilgisayar Yan Ürünleri > Kablolar > HDMI Kablolar > Goldmaster       1.00      1.00      1.00         1\n",
      "                                                        Bilgisayar > Bilgisayar Yan Ürünleri > Network Ürünleri > Access Point > Asus       0.00      0.00      0.00         0\n",
      "                                                                                   Bilgisayar > Bilgisayar-Dizüstü > Tabletler > Asus       0.00      0.00      0.00         0\n",
      "                                                            Bilgisayar > Bilgisayar-Dizüstü > Yedekleme > Yedekleme Üniteleri > Zyxel       0.00      0.00      0.00         1\n",
      "                                                           Bilgisayar > Bilgisayar-Dizüstü > iPad Aksesuarları > iPad Kalemi > Targus       0.00      0.00      0.00         1\n",
      "                                                                                                  Bilgisayar > Bilgisayarlar > Tablet       0.00      0.00      0.00         1\n",
      "Bilgisayar > Bilgisayarlar > Tablet Pcler > ASUS ME176CX-1B008A Memo Pad intel ATOM Z3745 1.86GHz 1GB 8GB 7\" ANDROID 4.4 KitKat Beyaz       0.00      0.00      0.00         1\n",
      "                                                                                  Bilgisayar > Bilgisayarlar > Taşınabilir Bilgisayar       0.00      0.00      0.00         0\n",
      "                                                                                                          Bilgisayar > Klavye & Mouse       0.00      0.00      0.00         1\n",
      "                                                                                                                 Bilgisayar > Monitör       0.00      0.00      0.00         2\n",
      "                                                                                                   Bilgisayar > Monitör > LED Monitör       1.00      1.00      1.00         1\n",
      "                                                                                                       Bilgisayar > Notebook > LENOVO       0.00      0.00      0.00         1\n",
      "                                                                                                Bilgisayar > Sarf Malzemeler > Kartuş       0.00      0.00      0.00         1\n",
      "                                                                                                                  Bilgisayar > Tablet       0.00      0.00      0.00         0\n",
      "                                                                                          Bilgisayar > Tablet & Aksesuarları > Tablet       0.00      0.00      0.00         0\n",
      "                                                                                               Bilgisayar > Taşınabilir Bilgisayarlar       0.00      0.00      0.00         1\n",
      "                                                                                                           Bilgisayar > Veri Depolama       0.00      0.00      0.00         2\n",
      "                                                                                         Bilgisayar > Veri Depolama > Hafıza Kartları       0.00      0.00      0.00         1\n",
      "                                                                                 Bilgisayar > Veri Depolama > SSD (Solid State Drive)       0.00      0.00      0.00         1\n",
      "                                                                                                  Bilgisayar > Wireless & Ağ Ürünleri       0.00      0.00      0.00         0\n",
      "                                                                    Bilgisayar > Yazıcı & Sarf Malzemeleri > Sarf Malzemeleri > Şerit       0.00      0.00      0.00         1\n",
      "                                                                                       Bilgisayar > Yazıcı > Çok İşlevli Laser Yazıcı       0.00      0.00      0.00         0\n",
      "                                                                                             Bilgisayar > Yazıcı > Çok İşlevli Yazıcı       0.00      0.00      0.00         1\n",
      "                             Bilgisayar > Yazıcı/Tarayıcı/Fax > Laser Yazıcılar > CANON MF-6140DN LAZER YAZICI/TARAYICI/FOTOKOPİ/FAKS       0.00      0.00      0.00         0\n",
      "                                                                                           Bilgisayar > Yazıcılar > Kartuş-Toner-Drum       1.00      1.00      1.00         1\n",
      "                                                                                    Bilgisayar > Yazıcılar ve Aksesuarlar > Yazıcılar       1.00      1.00      1.00         1\n",
      "                                                                        Bilgisayar > Yazılım Ürünleri > Oyunlar > Bilgisayar Oyunları       0.00      0.00      0.00         0\n",
      "                                                                                            Bilgisayar > Çevre Birimleri > ADSL Modem       1.00      1.00      1.00         1\n",
      "                           Bilgisayar > Çevre Birimleri > Klavye Mouse Takımları > LOGITECH MK240 Klavye+ Mouse Kablosuz (920-005789)       0.00      0.00      0.00         0\n",
      "                                                                                              Bilgisayar > Çevre Birimleri > Kulaklık       0.00      0.00      0.00         1\n",
      "                                                                                  Bilgisayar > Çevre Birimleri > Kulaklık ve Mikrofon       1.00      1.00      1.00         1\n",
      "                                                                                          Bilgisayar > Çevre Birimleri > Medya Kutusu       0.00      0.00      0.00         0\n",
      "                                                                                                 Bilgisayar > Çevre Birimleri > Mouse       0.00      0.00      0.00         2\n",
      "                                                                                           Bilgisayar > Çevre Birimleri > Tv Kartları       0.00      0.00      0.00         0\n",
      "                                                                                                  Bilgisayar Bileşenleri > Anakartlar       0.00      0.00      0.00         0\n",
      "                                                                                           Bilgisayar Bileşenleri > Bellek > Masaüstü       0.00      0.00      0.00         1\n",
      "                                                                                         Bilgisayar Bileşenleri > Hoparlör > CREATIVE       1.00      1.00      1.00         1\n",
      "                                                                                                        Bilgisayar Bileşenleri > Kasa       0.00      0.00      0.00         0\n",
      "                                                                                        Bilgisayar Bileşenleri > Monitörler > PHILIPS       0.00      0.00      0.00         1\n",
      "                                                                         Bilgisayar Bileşenleri > Overclock ve Soğutma > Sıvı Soğutma       0.00      0.00      0.00         0\n",
      "                                                                                                Bilgisayar Bileşenleri > Power Supply       0.00      0.00      0.00         0\n",
      "                                                                                         Bilgisayar Bileşenleri > Ses Kartları > ASUS       0.00      0.00      0.00         0\n",
      "                                                                     Bilgisayar Tablet Yazıcı > Bilgisayar Bileşenleri > Power Supply       1.00      1.00      1.00         1\n",
      "                                                                    Bilgisayar Tablet Yazıcı > Kulaklık Webcam Hoperlör > Hoparlörler       1.00      1.00      1.00         1\n",
      "                                                        Bilgisayar Tablet Yazıcı > Kulaklık Webcam Hoperlör > Mikrofon ve Kulaklıklar       0.00      0.00      0.00         0\n",
      "                                                          Bilgisayar Tablet Yazıcı > Modemler ve Ağ Ürünleri > Access Point ve Router       0.00      0.00      0.00         1\n",
      "                                                                        Bilgisayar Tablet Yazıcı > Modemler ve Ağ Ürünleri > Modemler       0.33      1.00      0.50         1\n",
      "                                                                Bilgisayar Tablet Yazıcı > Modemler ve Ağ Ürünleri > Wireless Adaptör       0.00      0.00      0.00         1\n",
      "                                                                                                Bilgisayar Tablet Yazıcı > Monitörler       1.00      1.00      1.00         1\n",
      "                                                                                                    Bilgisayar Tablet Yazıcı > Tablet       1.00      1.00      1.00         1\n",
      "                                                              Bilgisayar Ürünleri > Aksesuarlar > Kablolar > Ses ve Görüntü Kabloları       0.00      0.00      0.00         0\n",
      "                                                                   Bilgisayar Ürünleri > Aksesuarlar > Tablet Aksesuar > Tablet Kılıf       1.00      1.00      1.00         1\n",
      "                                                                                         Bilgisayar Ürünleri > Aksesuarlar > Çevirici       0.00      0.00      0.00         1\n",
      "                                                            Bilgisayar Ürünleri > Bilgisayar Bileşenleri (OEM) > Soğutucular / Fanlar       0.00      0.00      0.00         0\n",
      "                                                                      Bilgisayar Ürünleri > Bilgisayar Oyunları > Nintendo DS > Yarış       0.00      0.00      0.00         1\n",
      "                                                                                   Bilgisayar Ürünleri > Network / Modem > ADSL Modem       0.00      0.00      0.00         0\n",
      "                                                                                   Bilgisayar Ürünleri > Tüketim Malzemeleri > Kartuş       1.00      1.00      1.00         1\n",
      "                                                                               Bilgisayar Ürünleri > Veri Depolama > Taşınabilir Disk       0.00      0.00      0.00         0\n",
      "                                                                        Bilgisayar Ürünleri > Veri Depolama > Veri Depolama Cihazları       0.00      0.00      0.00         0\n",
      "                                                                        Bilgisayar Ürünleri > Yazıcı/Tarayıcı > Çok Fonksiyonlu Lazer       0.00      0.00      0.00         1\n",
      "                                                                                  Bilgisayar Ürünleri > Çevre Birimleri > Hoparlörler       0.00      0.00      0.00         0\n",
      "                                                                                        Bilgisayar Ürünleri > Çevre Birimleri > Mouse       0.00      0.00      0.00         0\n",
      "                                                                                Bilgisayarlar > Monitörler > LED Monitörler > PHILIPS       0.00      0.00      0.00         0\n",
      "                                                                                                               Bilgisayarlar > Tablet       0.00      0.00      0.00         1\n",
      "                                                                                     Bilgisayarlar > Taşınabilir Bilgisayarlar > ASUS       0.00      0.00      0.00         1\n",
      "                                                                                  Bilgisayarlar > Taşınabilir Bilgisayarlar > Samsung       0.00      0.00      0.00         1\n",
      "                                                    Bilgisayarlar > Çevre Birimleri > Güç Üniteleri > Kesintisiz Güç Kayn. > ARTRONIC       0.00      0.00      0.00         0\n",
      "                                                             Bilgisayarlar > Çevre Birimleri > Kablolar > Prj. & VGA Kablosu > S-LINK       0.00      0.00      0.00         1\n",
      "                                                                                                            Cep Telefonları > Samsung       1.00      1.00      1.00         1\n",
      "                                                                                          Cep Telefonu ve Aksesuarları > Cep Telefonu       0.00      0.00      0.00         0\n",
      "                                             Dijital Fotoğraf Makinesi > Resim > NIKON > Nikon CoolPix P510 Dijital Fotoğraf Makinası       0.00      0.00      0.00         0\n",
      "                                                                                                      Elektrikli Ev Aletleri > Ütüler       1.00      1.00      1.00         1\n",
      "                                                                                                                           Elektronik       0.00      0.00      0.00         1\n",
      "                                                                           Elektronik & TV > Ses & Görüntü Sistemleri > Televizyonlar       0.00      0.00      0.00         1\n",
      "                                                                             Elektronik & TV > Tv Sehpaları Ve Askıları > Tv Askıları       1.00      1.00      1.00         1\n",
      "                                                                                                     Elektronik > Televizyon > LED TV       0.00      0.00      0.00         1\n",
      "                                                                                     Elektronik ve Televizyon > Projeksiyon Cihazları       0.00      0.00      0.00         1\n",
      "                                                                                            Ev / Bakım > Ütü Grubu > Buhar Tanklı Ütü       0.00      0.00      0.00         1\n",
      "                                                                                                Ev Aletleri & Elektronik > Televizyon       0.00      0.00      0.00         1\n",
      "                                                                                                Ev Aletleri & Elektronik > Uydu Alıcı       0.00      0.00      0.00         0\n",
      "                                                                                                       Ev Elektroniği > Televizyonlar       1.00      1.00      1.00         1\n",
      "                                                                                             Ev Elektroniği > Televizyonlar > SAMSUNG       0.00      0.00      0.00         0\n",
      "                                                                                                               Flash Bellek > SANDISK       0.00      0.00      0.00         1\n",
      "                                                                                                                   Flash Hafıza Kartı       0.00      0.00      0.00         1\n",
      "                                                                                      Foto & Kamera > Dijital SLR Fotoğraf Makineleri       1.00      1.00      1.00         1\n",
      "                                                                                       Foto & Kamera > Fotoğraf Makinesi ve Kameralar       0.00      0.00      0.00         0\n",
      "                                                                                            Foto & Kamera > Hafıza Kartları > Sandisk       0.00      0.00      0.00         0\n",
      "                                                                                         Foto & Kamera > Video Kameraları > Panasonic       0.00      0.00      0.00         0\n",
      "                                                                                                 Foto Mak. & Kamera > Video Kameralar       0.00      0.00      0.00         1\n",
      "                                                                                               Foto&Kamera > Aksesuar > Li-On Batarya       0.00      0.00      0.00         1\n",
      "                                                                                                  Foto&Kamera > Objektif Aksesuarları       0.00      0.00      0.00         0\n",
      "                  Foto/Kamera > Dijital Fotoğraf Makineleri > Nikon COOLPIX-S2800B 20.1MP 5X 2,7\" Lcd Ekran Dijital Fotoğraf Makinesi       0.00      0.00      0.00         1\n",
      "                                                                                        Fotoğraf & Kamera > Compact Foto Mak. > NIKON       0.00      0.00      0.00         0\n",
      "                                                                                                           Fotoğraf & Kamera > Tripod       0.00      0.00      0.00         0\n",
      "                                                                                                      Fotoğraf - Video > Video Kamera       0.00      0.00      0.00         1\n",
      "                                                                               Fotoğraf / Elektronik > Hafıza Kartı > Kart Okuyucular       0.00      0.00      0.00         1\n",
      "                                                                                     Fotoğraf / Elektronik > Hafıza Kartı > SD Bellek       0.00      0.00      0.00         1\n",
      "                                                                                  Fotoğraf / Elektronik > Kulaklık > Tam Boy Kulaklık       0.00      0.00      0.00         1\n",
      "                                                                                        Fotoğraf / Elektronik > SLR Fotoğraf Makinesi       0.00      0.00      0.00         0\n",
      "                                                                                                 Fotoğraf / Elektronik > Video Kamera       0.00      0.00      0.00         0\n",
      "                                                                                                Fotoğraf Makinesi Aksesuarı > Addison       0.00      0.00      0.00         1\n",
      "                                                                                                  HP Pavilion K0W08EA TOUCH Ultrabook       0.00      0.00      0.00         0\n",
      "                                                                     Hobi & Oyun Konsolları > Oyun&Oyun Konsolu > Bilgisayar Oyunları       0.00      0.00      0.00         0\n",
      "                                                                                          Hobi / Oyun / Müzik > Oyunlar > PC Oyunları       0.00      0.00      0.00         1\n",
      "                                   Hobi / Oyun Konsolu >  Oyun ve Oyun Konsolları >  Oyunlar >  Bilgisayar Oyunları >  Macera-Aksiyon       0.00      0.00      0.00         1\n",
      "                                                                                                        Hoparlör (speaker) > Logitech       0.00      0.00      0.00         1\n",
      "                                                                                                                               Kamera       0.00      0.00      0.00         1\n",
      "                                                                             Kişisel Bilgisayarlar > Taşınabilir Bilgisayarlar > ASUS       0.00      0.00      0.00         0\n",
      "                                                                          Kişisel Bilgisayarlar > Taşınabilir Bilgisayarlar > Samsung       0.00      0.00      0.00         0\n",
      "                                                                                                                  Kulaklık > Logitech       0.00      0.00      0.00         1\n",
      "                                                             Küçük Ev Aletleri > Kişisel Bakım Ürünleri > Baskül ve Teraziler > TEFAL       0.00      0.00      0.00         1\n",
      "                                                                         Küçük Ev Aletleri > Mutfak Ürünleri > Meyve Sıkıcı > KORKMAZ       0.00      0.00      0.00         0\n",
      "                                                                                                              Küçük Ev Aletleri > Ütü       0.00      0.00      0.00         0\n",
      "                                                                                                                 Lazer Yazıcı > CANON       0.00      0.00      0.00         1\n",
      "                                                                                                                          Led Tv > LG       0.00      0.00      0.00         0\n",
      "                                                                                                                     Led Tv > SAMSUNG       0.00      0.00      0.00         1\n",
      "                                                                                     Mobilya > Tv Ünitesi / Tv Sehpası > Tv Sehpaları       0.00      0.00      0.00         1\n",
      "                                                                                                                      Modem > AIRTIES       0.00      0.00      0.00         1\n",
      "                                                                                                                              Monitör       1.00      0.50      0.67         2\n",
      "                                                                                                                  Müzik Çalar > APPLE       0.00      0.00      0.00         1\n",
      "                                                                                               NETWORK / AĞ ÜRÜNLERİ > ASUS > USB-N13       0.00      0.00      0.00         0\n",
      "                                                                       Network Ürünleri > Modemler > Kablosuz ADSL Modemler > AIRTIES       0.00      0.00      0.00         0\n",
      "                                                                                         Notebook Aksesuarları > Notebook Adaptörleri       0.00      0.00      0.00         1\n",
      "                                                                        OEM & Çevre Birimleri > Bellek (Ram) > Masaüstü Pc Bellekleri       0.00      0.00      0.00         0\n",
      "                                                                                OEM & Çevre Birimleri > Güç Kaynakları (power supply)       0.00      0.00      0.00         0\n",
      "                                                                                         OEM & Çevre Birimleri > Kablosuz Ağ Ürünleri       0.00      0.00      0.00         1\n",
      "                                                                                                   OEM & Çevre Birimleri > Monitörler       0.00      0.00      0.00         1\n",
      "                                                                                                                   OEM > Ses Kartları       0.00      0.00      0.00         1\n",
      "                                                                                              OEM Ürünleri > Bellekler > PC > CORSAIR       1.00      1.00      1.00         1\n",
      "                                                                            OEM Ürünleri > Bilgisayar Kasaları > Full Tower > CORSAIR       0.00      0.00      0.00         1\n",
      "                                                                    OEM Ürünleri > Bilgisayar Kasaları > Middle Tower > COOLER MASTER       0.00      0.00      0.00         1\n",
      "                                                                                        OEM Ürünleri > Güç Kaynakları > COOLER MASTER       0.00      0.00      0.00         1\n",
      "                                                                               OEM Ürünleri > Klavyeler > Klavye Mouse Set > LOGITECH       0.00      0.00      0.00         1\n",
      "                                                                                     OEM Ürünleri > Mouse > Notebook Mouse > LOGITECH       0.00      0.00      0.00         0\n",
      "                                                                                                  OEM Ürünleri > USB Bellek > CORSAIR       0.00      0.00      0.00         1\n",
      "                                                                                                  OEM Ürünleri > USB Bellek > SANDISK       0.00      0.00      0.00         0\n",
      "                                                                                                                                Other       0.00      0.00      0.00         3\n",
      "                                                                                Oto Aksesuar > Ses & Görüntü Sistemleri > Hoparlörler       0.00      0.00      0.00         1\n",
      "                                                                                            Oto Ses Görüntü > Oto Hoparlörü > PIONEER       0.00      0.00      0.00         1\n",
      "                                                                                                    Oyun & Oyun Konsolu > Aksesuarlar       0.00      0.00      0.00         0\n",
      "                                                                                     Oyun - Hobi > Oyun > Oyun Aksesuarları > Gamepad       0.00      0.00      0.00         1\n",
      "                                                                                                         Oyun - Hobi > Oyun > Oyunlar       1.00      1.00      1.00         1\n",
      "                                                                                                               Oyun Dünyası > Oyunlar       0.00      0.00      0.00         0\n",
      "                                                                                                          Oyun Dünyası > Oyunlar > PC       0.00      0.00      0.00         0\n",
      "                                                                                                              Oyun Konsolları > SNOPY       0.00      0.00      0.00         1\n",
      "                                                                                                Oyun ve Oyun Konsolları > PC Oyunları       1.00      1.00      1.00         2\n",
      "                                                                                          Oyun ve Oyun Konsolları > Xbox 360 Oyunları       0.00      0.00      0.00         1\n",
      "                                                                                         Oyuncu Ürünleri > Oyun Kontrolleri > Gamepad       0.00      0.00      0.00         0\n",
      "                                                                                                   PC / Play Station Oyun > Oyun > PC       0.00      0.00      0.00         0\n",
      "                                                                                                  Piller ve Şarj Aletleri > Energizer       0.00      0.00      0.00         0\n",
      "                                                                                                        SES SİSTEMİ > CREATIVE > A120       0.00      0.00      0.00         1\n",
      "                                                                                                    SSD (Solid State Drive) > CORSAIR       0.00      0.00      0.00         1\n",
      "                                                                                  Samsung Galaxy Alpha G850 32GB Cep Telefonu - Beyaz       0.00      0.00      0.00         0\n",
      "                                                                                                           Sarf > Mürekkep Kartuşları       0.00      0.00      0.00         0\n",
      "                                                                                                                      Sarf > Tonerler       0.00      0.00      0.00         1\n",
      "                                                                                                                 Sd Kartlar > SANDISK       0.00      0.00      0.00         0\n",
      "                                                                                              Telefon - İletişim > Kablolu Telefonlar       0.00      0.00      0.00         1\n",
      "                                                                Telefon >  Cep Telefonları >  Cep Telefonu & Smartphone >  Smartphone       0.00      0.00      0.00         0\n",
      "                                                                                                          Telefon > Akıllı Telefonlar       1.00      1.00      1.00         1\n",
      "                                                                                                            Telefon > Cep Telefonları       0.00      0.00      0.00         1\n",
      "                                                                                                               Telefon > Cep Telefonu       0.00      0.00      0.00         1\n",
      "                                                                                                        Telefon > Kablosuz Telefonlar       0.00      0.00      0.00         1\n",
      "                                                                                                             Telefon > Samsung Galaxy       0.00      0.00      0.00         0\n",
      "                                                                           Telefon > Telsiz - Kablolu Telefonlar > Kablolu Telefonlar       0.00      0.00      0.00         0\n",
      "                                                                                                       Telefonlar > Akıllı Telefonlar       1.00      1.00      1.00         1\n",
      "                                                                                              Televizyon > LED Televizyon > LG Led Tv       0.00      0.00      0.00         1\n",
      "                                                                                         Televizyon > LED Televizyon > Samsung Led Tv       0.00      0.00      0.00         0\n",
      "                                                                                                          Toner Kartuş Şerit > Kartuş       1.00      1.00      1.00         1\n",
      "                                                                                                                 Tv Aksesuar > S-LINK       0.00      0.00      0.00         0\n",
      "                                                                                               Tüketici Elektroniği > Cep Telefonları       0.00      0.00      0.00         1\n",
      "                                                                          Tüketici Elektroniği > Cep Telefonu > Akıllı Telefon > SONY       0.00      0.00      0.00         0\n",
      "                                                                 Tüketici Elektroniği > Fotoğraf Makinesi Lensleri > Tripod > ADDISON       0.00      0.00      0.00         0\n",
      "                                                                         Tüketici Elektroniği > Kablolu Telefonlar > Görüntülü > TTEC       0.00      0.00      0.00         1\n",
      "                                                                                       Tüketici Elektroniği > MP3 Çalar > Mp3 > APPLE       0.00      0.00      0.00         1\n",
      "                                                                      Tüketici Elektroniği > Projeksiyon Cihazları > Projeksiyon > LG       0.00      0.00      0.00         0\n",
      "                                                    Tüketici Elektroniği > Tedarik Bizden > Medikal ve Sağlık > Diğer Sağlık ürünleri       0.00      0.00      0.00         1\n",
      "                                                                                 Tüketici Elektroniği > Televizyon > 3D LED > SAMSUNG       0.00      0.00      0.00         0\n",
      "                                                                                                 Tüketim Malzemeleri > Kartuş > CANON       0.00      0.00      0.00         0\n",
      "                                                                                                    Tüketim Malzemeleri > Kartuş > HP       1.00      1.00      1.00         1\n",
      "                                                                                                Tüketim Malzemeleri > Toner > SAMSUNG       0.00      0.00      0.00         1\n",
      "                                                                                                  Tüketim Malzemeleri > Toner > XEROX       0.00      0.00      0.00         0\n",
      "                                                                                           Tüketim Ürünleri > Sarf Malzemeler > Toner       0.00      0.00      0.00         1\n",
      "                                                                                                                       Ultrabook > HP       0.00      0.00      0.00         1\n",
      "                                                                                                    Veri Depolama > Harici Sabit Disk       0.00      0.00      0.00         1\n",
      "                                                                                                             Video Kamera > PANASONIC       0.00      0.00      0.00         0\n",
      "                                                                                                                  Video Kamera > SONY       0.00      0.00      0.00         1\n",
      "                                                                                                        Yazılım > Oyunlar > PC > ARAL       0.00      0.00      0.00         2\n",
      "                                                                                       Yazılım > İşletim Sistemleri > Oem > MICROSOFT       0.00      0.00      0.00         1\n",
      "                                                                                       Zalman CNPS11X Performa Intel/AMD CPU Soğutucu       0.00      0.00      0.00         1\n",
      "                                                                                                          iPod > iPod shuffle > Apple       0.00      0.00      0.00         0\n",
      "                                                                                                        Çevre Birimler > Kart Okuyucu       0.00      0.00      0.00         0\n",
      "                                                                                                             Çevre Birimler > Monitör       0.00      0.00      0.00         0\n",
      "                                                                                  Çevre Birimleri > Hoparlör Speaker > 2+1 > CREATIVE       0.00      0.00      0.00         0\n",
      "                                                                                   Çevre Birimleri > Hoparlör Speaker > 2+1 > EDIFIER       0.00      0.00      0.00         1\n",
      "                                                                      Çevre Birimleri > Hoparlör Speaker > Bluetooth Hoparlör > iHOME       0.00      0.00      0.00         1\n",
      "                                                                   Çevre Birimleri > Kesintisiz Güç Kaynakları > On Line > POWERSONIC       0.00      0.00      0.00         1\n",
      "                                                                                                                          Ütü > TEFAL       0.00      0.00      0.00         1\n",
      "                                                                                                İnternet - Ağ Ürünleri > Access Point       0.00      0.00      0.00         1\n",
      "\n",
      "                                                                                                                             accuracy                           0.19       155\n",
      "                                                                                                                            macro avg       0.11      0.12      0.11       155\n",
      "                                                                                                                         weighted avg       0.19      0.19      0.19       155\n",
      "\n"
     ]
    },
    {
     "name": "stderr",
     "output_type": "stream",
     "text": [
      "/opt/anaconda3/envs/ml/lib/python3.12/site-packages/sklearn/metrics/_classification.py:1469: UndefinedMetricWarning: Precision and F-score are ill-defined and being set to 0.0 in labels with no predicted samples. Use `zero_division` parameter to control this behavior.\n",
      "  _warn_prf(average, modifier, msg_start, len(result))\n",
      "/opt/anaconda3/envs/ml/lib/python3.12/site-packages/sklearn/metrics/_classification.py:1469: UndefinedMetricWarning: Recall and F-score are ill-defined and being set to 0.0 in labels with no true samples. Use `zero_division` parameter to control this behavior.\n",
      "  _warn_prf(average, modifier, msg_start, len(result))\n",
      "/opt/anaconda3/envs/ml/lib/python3.12/site-packages/sklearn/metrics/_classification.py:1469: UndefinedMetricWarning: Precision and F-score are ill-defined and being set to 0.0 in labels with no predicted samples. Use `zero_division` parameter to control this behavior.\n",
      "  _warn_prf(average, modifier, msg_start, len(result))\n",
      "/opt/anaconda3/envs/ml/lib/python3.12/site-packages/sklearn/metrics/_classification.py:1469: UndefinedMetricWarning: Recall and F-score are ill-defined and being set to 0.0 in labels with no true samples. Use `zero_division` parameter to control this behavior.\n",
      "  _warn_prf(average, modifier, msg_start, len(result))\n",
      "/opt/anaconda3/envs/ml/lib/python3.12/site-packages/sklearn/metrics/_classification.py:1469: UndefinedMetricWarning: Precision and F-score are ill-defined and being set to 0.0 in labels with no predicted samples. Use `zero_division` parameter to control this behavior.\n",
      "  _warn_prf(average, modifier, msg_start, len(result))\n",
      "/opt/anaconda3/envs/ml/lib/python3.12/site-packages/sklearn/metrics/_classification.py:1469: UndefinedMetricWarning: Recall and F-score are ill-defined and being set to 0.0 in labels with no true samples. Use `zero_division` parameter to control this behavior.\n",
      "  _warn_prf(average, modifier, msg_start, len(result))\n"
     ]
    }
   ],
   "source": [
    "print(\"Lojistik Regresyon Sınıflandırma Raporu:\")\n",
    "print(classification_report(y_test, y_pred))"
   ]
  },
  {
   "cell_type": "code",
   "execution_count": 32,
   "id": "6824aba1-727f-4ee9-ad95-2bd0c22b2b35",
   "metadata": {
    "collapsed": true,
    "jupyter": {
     "outputs_hidden": true,
     "source_hidden": true
    }
   },
   "outputs": [
    {
     "name": "stdout",
     "output_type": "stream",
     "text": [
      "Lojistik Regresyon Sınıflandırma Raporu:\n",
      "                                                                                                                                             precision    recall  f1-score   support\n",
      "\n",
      "                                                                                                         ANAKART > GIGABYTE > Z97X-Gaming 5       0.00      0.00      0.00         0\n",
      "                                                                                           Aksesuar & Sarf Malz. > Kablolar > Ses Kabloları       0.00      0.00      0.00         1\n",
      "                                                                            Aksesuar & Sarf Malz. > Projeksiyon Aksesuarları > Askı Aparatı       0.00      0.00      0.00         1\n",
      "                                                                                                           Aksesuar > Notebook Aksesuarları       0.00      0.00      0.00         1\n",
      "                                                               Aksesuar Ürünleri > Bağlantı Cihazları ve Çeviriciler > Çeviriciler > S-LINK       0.00      0.00      0.00         0\n",
      "                                                               Aksesuar Ürünleri > Bağlantı Cihazları ve Çeviriciler > Çeviriciler > SKYPAL       0.00      0.00      0.00         1\n",
      "                                                                                  Aksesuar Ürünleri > Kablolar > Görüntü Kabloları > BELKIN       0.00      0.00      0.00         0\n",
      "                                                                               Aksesuar Ürünleri > Kablolar > Görüntü Kabloları > ENERGIZER       0.00      0.00      0.00         1\n",
      "                                                                                 Aksesuar Ürünleri > Kablolar > Network Kabloları > DIGITUS       0.00      0.00      0.00         0\n",
      "                                                                                  Aksesuar Ürünleri > Kablolar > Network Kabloları > S-LINK       0.00      0.00      0.00         1\n",
      "                                                                                      Aksesuar Ürünleri > Kart Okuyucular > Harici > FRISBY       0.00      0.00      0.00         0\n",
      "                                                            Aksesuar Ürünleri > Notebook Soğutucu > Notebook Soğutucu Stant > COOLER MASTER       0.00      0.00      0.00         0\n",
      "                                                                                Aksesuar Ürünleri > Prizler > Akım Koruyucu Pirizler > HAMA       0.00      0.00      0.00         1\n",
      "                                                                                         Apple iPad Air MH182TU/A Wi-Fi 64GB Gold Tablet PC       0.00      0.00      0.00         1\n",
      "                                                                                              Apple iPhone 6 Plus 16GB Cep Telefonu - Gümüş       0.00      0.00      0.00         0\n",
      "                                                                      Beyaz Eşya & Elektrikli Ev Aletleri > Elektrikli Ev Aletleri > Ütüler       0.00      0.00      0.00         1\n",
      "                                                                                           Beyaz Eşya&Ev Aletleri > Küçük Ev Aletleri > Ütü       0.00      0.00      0.00         1\n",
      "                                                                                      Beyaz Eşya/Mutfak > Ev Ürünleri > Buharlı Ütü > Tefal       0.00      0.00      0.00         1\n",
      "                                                                                                        Bilg.Parçaları > Fan ve Soğutucular       0.00      0.00      0.00         1\n",
      "                                                                                                              Bilg.Parçaları > Power Supply       0.00      0.00      0.00         0\n",
      "                                                         Bilgisayar > Aksesuarlar > Çeviriciler > S-LINK SL-HV56 HDMI To VGA Çevirici Kablo       0.00      0.00      0.00         1\n",
      "                                                                                             Bilgisayar > Ağ Ürünleri & Modemler > Modemler       0.00      0.00      0.00         0\n",
      "                                                                                               Bilgisayar > Ağ Ürünleri & Modemler > Router       0.00      0.00      0.00         1\n",
      "                                                                                     Bilgisayar > Ağ Ürünleri & Modemler > Wireless Adaptör       0.00      0.00      0.00         1\n",
      "                                                                                        Bilgisayar > Bilgisayar Aksesuarları > Kart okuyucu       0.00      0.00      0.00         0\n",
      "                                                          Bilgisayar > Bilgisayar Aksesuarları > Notebook Aksesuarları > Notebook Mouseları       0.00      0.00      0.00         1\n",
      "                                                          Bilgisayar > Bilgisayar Aksesuarları > Notebook Aksesuarları > Notebook Çantaları       0.00      0.00      0.00         1\n",
      "                                                                                   Bilgisayar > Bilgisayar Aksesuarları > iPad Aksesuarları       0.00      0.00      0.00         0\n",
      "                                                                  Bilgisayar > Bilgisayar Bilesenleri > Bellek (Ram) > Masaüstü Bellek(Ram)       0.00      0.00      0.00         0\n",
      "                                               Bilgisayar > Bilgisayar Bileşenleri (O.E.M) > Soğutucular / Overclock > Notebook Soğutucular       0.00      0.00      0.00         0\n",
      "                                                                                              Bilgisayar > Bilgisayar Bileşenleri > Anakart       0.00      0.00      0.00         0\n",
      "                                                                                           Bilgisayar > Bilgisayar Bileşenleri > Anakartlar       0.00      0.00      0.00         1\n",
      "                                                                                  Bilgisayar > Bilgisayar Bileşenleri > Bilgisayar Kasaları       0.00      0.00      0.00         1\n",
      "Bilgisayar > Bilgisayar Bileşenleri > Bilgisayar Kasaları > CORSAIR CC-9011059-WW Graphite 780T Beyaz Full-Tower Pencereli KASA ( PSU YOK )       0.00      0.00      0.00         1\n",
      "                                     Bilgisayar > Bilgisayar Bileşenleri > Bilgisayar Kasaları > CoolerMaster N200 500W Mini Tower ATX KASA       0.00      0.00      0.00         0\n",
      "                                                                            Bilgisayar > Bilgisayar Bileşenleri > Disket ve Kart Okuyucular       0.00      0.00      0.00         0\n",
      "                                                                                          Bilgisayar > Bilgisayar Bileşenleri > Hoparlörler       0.00      0.00      0.00         1\n",
      "                                                                                  Bilgisayar > Bilgisayar Bileşenleri > Kulaklıklı Mikrofon       0.00      0.00      0.00         1\n",
      "                                                                                         Bilgisayar > Bilgisayar Bileşenleri > Power Supply       0.00      0.00      0.00         1\n",
      "                                                                                         Bilgisayar > Bilgisayar Bileşenleri > Ram (Hafıza)       1.00      1.00      1.00         1\n",
      "               Bilgisayar > Bilgisayar Bileşenleri > Ram Bellekler > CORSAIR CMV4GX3M1A1333C9 4GB, 1333Mhz, DDR3 CL9 Value Tek Modül Memory       0.00      0.00      0.00         0\n",
      "         Bilgisayar > Bilgisayar Bileşenleri > SSD (Solid State Drive) > Corsair Force GS 240 GB SSD Disk CSSD-F240GBGS-BK 2,5, 555/525MB/s       0.00      0.00      0.00         1\n",
      "                                                                    Bilgisayar > Bilgisayar Parçaları > Bellek (Ram) > USB Bellek > Sandisk       0.00      0.00      0.00         1\n",
      "                                                   Bilgisayar > Bilgisayar Parçaları > Hoparlör/Kulaklık/Ses > Kulaklık/Mikrofon > Logitech       0.00      0.00      0.00         0\n",
      "                                      Bilgisayar > Bilgisayar Parçaları > Sabit / Taşınabilir Disk > 2.5 Ext. Usb Diskler > Western Digital       0.00      0.00      0.00         0\n",
      "                                                                Bilgisayar > Bilgisayar Parçaları > Tüketim Malzemeleri > Kartuşlar > Canon       0.00      0.00      0.00         0\n",
      "                                                                   Bilgisayar > Bilgisayar Parçaları > Tüketim Malzemeleri > Kartuşlar > Hp       0.00      0.00      0.00         0\n",
      "                                                            Bilgisayar > Bilgisayar Parçaları > Yazıcı / Tarayıcı > Çok Fonksiyonlu > Canon       0.00      0.00      0.00         0\n",
      "                                                               Bilgisayar > Bilgisayar Parçaları > Yazıcı / Tarayıcı > Çok Fonksiyonlu > Hp       0.00      0.00      0.00         1\n",
      "                                                    Bilgisayar > Bilgisayar Yan Ürünleri > Network Ürünleri > Ethernet Kart Kablosuz > Asus       0.00      0.00      0.00         1\n",
      "                                                                                                     Bilgisayar > Bilgisayarlar > Tablet PC       0.00      0.00      0.00         0\n",
      "                                                                                        Bilgisayar > Bilgisayarlar > Taşınabilir Bilgisayar       0.00      0.00      0.00         1\n",
      "                                                                                                                   Bilgisayar > Hoparlörler       0.00      0.00      0.00         1\n",
      "                                                                                                                Bilgisayar > Klavye & Mouse       0.00      0.00      0.00         1\n",
      "                                                                                     Bilgisayar > MP3 Player & Ses Kayıt > MP3 & MP4 Player       0.00      0.00      0.00         1\n",
      "                                                                                                                       Bilgisayar > Monitör       0.00      0.00      0.00         0\n",
      "                                                                                                             Bilgisayar > Notebook > LENOVO       0.50      1.00      0.67         1\n",
      "                                                                                                      Bilgisayar > Sarf Malzemeler > Kartuş       0.00      0.00      0.00         1\n",
      "                                                                                           Bilgisayar > Sarf Malzemeler > Mürekkep - Kartuş       1.00      1.00      1.00         1\n",
      "                                                                                                       Bilgisayar > Sarf Malzemeler > Toner       1.00      1.00      1.00         1\n",
      "                                                                                Bilgisayar > Sarf Malzemeleri > Soğutucu ve Fanlar > Fanlar       0.00      0.00      0.00         0\n",
      "                                                                                                                        Bilgisayar > Tablet       0.00      0.00      0.00         0\n",
      "                                                                                                          Bilgisayar > Tablet Bilgisayarlar       0.00      0.00      0.00         1\n",
      "                                                                                       Bilgisayar > Veri Depolama > SSD (Solid State Drive)       0.00      0.00      0.00         1\n",
      "                                                            Bilgisayar > Yazıcı & Sarf Malzemeleri > Sarf Malzemeleri > Mürekkep Kartuşları       1.00      1.00      1.00         1\n",
      "                                                                            Bilgisayar > Yazıcı & Tarayıcı > Mürekkep Püskürtmeli Yazıcılar       0.00      0.00      0.00         1\n",
      "      Bilgisayar > Yazıcı/Tarayıcı/Fax > Yazıcı Tonerleri > XEROX 106R01476 PHASER 6121MFP YUKSEK KAPASITELI SIYAH TONER KARTUSU 2500 SAYFA       0.00      0.00      0.00         1\n",
      "                                                                              Bilgisayar > Yazılım Ürünleri > Oyunlar > Bilgisayar Oyunları       0.00      0.00      0.00         1\n",
      "                                                                           Bilgisayar > Yazılım Ürünleri > Oyunlar > PlayStation 3 Oyunları       0.00      0.00      0.00         0\n",
      "                                                                                        Bilgisayar > Çevre Birimleri > Bilgisayar Hoparlörü       0.00      0.00      0.00         0\n",
      "                                                                                Bilgisayar > Çevre Birimleri > Klavye > Klavye-Mouse Takımı       0.00      0.00      0.00         1\n",
      "                                                                                         Bilgisayar > Çevre Birimleri > Klavye Mouse Setler       0.00      0.00      0.00         1\n",
      "                                                                                         Bilgisayar > Çevre Birimleri > Kulaklık & Mikrofon       0.00      0.00      0.00         1\n",
      "                                                                                        Bilgisayar > Çevre Birimleri > Kulaklık ve Mikrofon       1.00      1.00      1.00         1\n",
      "                                                                                                Bilgisayar > Çevre Birimleri > Medya Kutusu       0.00      0.00      0.00         0\n",
      "                                                                                                  Bilgisayar > Çevre Birimleri > Monitörler       1.00      0.50      0.67         2\n",
      "                                             Bilgisayar > Çevre Birimleri > Monitörler > PHILIPS 203V5LSB26/62 19,5\" Wide 5ms LED MONİTÖR(S       0.00      0.00      0.00         1\n",
      "                                                       Bilgisayar > Çevre Birimleri > Monitörler > SAMSUNG 18,5\" S19C150F SIYAH LED MONITOR       0.00      0.00      0.00         1\n",
      "                                                                                                       Bilgisayar > Çevre Birimleri > Mouse       0.00      0.00      0.00         1\n",
      "                                                                                                           Bilgisayar Bileşenleri > Anakart       0.00      0.00      0.00         1\n",
      "                                                                                                        Bilgisayar Bileşenleri > Anakartlar       0.00      0.00      0.00         0\n",
      "                                                                                                 Bilgisayar Bileşenleri > Bellek > Masaüstü       0.00      0.00      0.00         1\n",
      "                                                                                               Bilgisayar Bileşenleri > Bellekler > CORSAIR       1.00      1.00      1.00         1\n",
      "                                                                                              Bilgisayar Bileşenleri > Monitörler > PHILIPS       1.00      0.50      0.67         2\n",
      "                                                                                                 Bilgisayar Bileşenleri > Mouse > Microsoft       1.00      1.00      1.00         1\n",
      "                                                     Bilgisayar Bileşenleri > Resim > Creative > CREATIVE SBS A120 21 9W RMS HOPARLÖR SİYAH       0.00      0.00      0.00         0\n",
      "                                                       Bilgisayar Bileşenleri > Resim > Frisby > FRISBY FCR-40P ALL IN ONE USB KART OKUYUCU       0.00      0.00      0.00         1\n",
      "                                                                                               Bilgisayar Bileşenleri > Ses Kartları > ASUS       1.00      1.00      1.00         1\n",
      "                                                                        Bilgisayar Tablet Yazıcı > Bilgisayar Bileşenleri > Bellekler (Ram)       0.00      0.00      0.00         1\n",
      "                                                                          Bilgisayar Tablet Yazıcı > Kulaklık Webcam Hoperlör > Hoparlörler       0.00      0.00      0.00         2\n",
      "                                                                 Bilgisayar Tablet Yazıcı > Veri Depolama / Yedekleme > Taşınabilir Diskler       1.00      1.00      1.00         1\n",
      "                                                                       Bilgisayar Tablet Yazıcı > Veri Depolama / Yedekleme > USB Bellekler       0.00      0.00      0.00         0\n",
      "                                                                                         Bilgisayar Ürünleri > Aksesuarlar > Harici Kutular       0.00      0.00      0.00         1\n",
      "                                                                               Bilgisayar Ürünleri > Aksesuarlar > Kablolar > Network Kablo       0.00      0.00      0.00         0\n",
      "                                                                    Bilgisayar Ürünleri > Aksesuarlar > Kablolar > Ses ve Görüntü Kabloları       0.00      0.00      0.00         1\n",
      "                                                                         Bilgisayar Ürünleri > Aksesuarlar > Tablet Aksesuar > Tablet Kalem       0.00      0.00      0.00         0\n",
      "                                                                         Bilgisayar Ürünleri > Aksesuarlar > Tablet Aksesuar > Tablet Kılıf       0.00      0.00      0.00         0\n",
      "                                                                                         Bilgisayar Ürünleri > Tüketim Malzemeleri > Kartuş       1.00      1.00      1.00         1\n",
      "                                                                                          Bilgisayar Ürünleri > Tüketim Malzemeleri > Toner       0.00      0.00      0.00         0\n",
      "                                                                                     Bilgisayar Ürünleri > Veri Depolama > Taşınabilir Disk       0.00      0.00      0.00         0\n",
      "                                                                                        Bilgisayar Ürünleri > Çevre Birimleri > Hoparlörler       0.00      0.00      0.00         1\n",
      "                                                                                      Bilgisayarlar > Monitörler > LED Monitörler > PHILIPS       0.00      0.00      0.00         0\n",
      "                                                                                        Bilgisayarlar > Taşınabilir Bilgisayarlar > Samsung       0.00      0.00      0.00         1\n",
      "                                                                                     Bilgisayarlar > Yazıcı & Tarayıcı > Çok Fonk.Yazıcılar       0.00      0.00      0.00         1\n",
      "                                                          Bilgisayarlar > Çevre Birimleri > Güç Üniteleri > Kesintisiz Güç Kayn. > ARTRONIC       0.00      0.00      0.00         0\n",
      "                                                                   Bilgisayarlar > Çevre Birimleri > Kablolar > Prj. & VGA Kablosu > S-LINK       0.00      0.00      0.00         1\n",
      "                                                            Bilgisayarlar > Çevre Birimleri > Klavye & Mouse Set > Wireless Setler > FRISBY       0.00      0.00      0.00         0\n",
      "                                                          Bilgisayarlar > Çevre Birimleri > Klavye & Mouse Set > Wireless Setler > LOGITECH       0.00      0.00      0.00         0\n",
      "                                                         Bilgisayarlar > Çevre Birimleri > Kulaklık & Mikrofon > Kablolu Kulaklık > PHILIPS       0.00      0.00      0.00         1\n",
      "                                                        Bilgisayarlar > Çevre Birimleri > Network Ürünleri > Kablosuz Ağ Ürünleri > AIRTIES       0.00      0.00      0.00         0\n",
      "                                                                                                                            Cep Telefonları       0.00      0.00      0.00         0\n",
      "                                                                                                                    Cep Telefonları > Apple       0.00      0.00      0.00         1\n",
      "                                                                                      Cep Telefonları > Cep Telefonu Aksesuarları > Samsung       1.00      1.00      1.00         1\n",
      "                                                              Cep Telefonu > Resim > Samsung > Samsung G850 Galaxy Alpha 16 GB Cep Telefonu       0.00      0.00      0.00         0\n",
      "                                                                                                Cep Telefonu ve Aksesuarları > Cep Telefonu       0.00      0.00      0.00         1\n",
      "                                                   Dijital Fotoğraf Makinesi > Resim > NIKON > Nikon CoolPix P510 Dijital Fotoğraf Makinası       0.00      0.00      0.00         1\n",
      "                               Dijital SLR Fotoğraf Makinesi > Resim > CANON > Canon EOS 600D 18-55mm DC Lens Dijital SLR Fotoğraf Makinası       0.00      0.00      0.00         0\n",
      "                                                                      Dijital Yaşam > SLR Fotoğraf Makinesi > Canon EOS 600D 18-55mm DC Kit       0.00      0.00      0.00         1\n",
      "                                             Diğer Sağlık ürünleri > Resim > Braun > Braun Oral-B EB20-2 Precision Clean Diş Fırçası Yedeği       0.00      0.00      0.00         1\n",
      "                                                                                   Elektronik & TV > Tv Sehpaları Ve Askıları > Tv Askıları       0.00      0.00      0.00         0\n",
      "                                                                                                    Elektronik > Televizyon > Televizyonlar       0.00      0.00      0.00         1\n",
      "                                                                                                                                 En Yeniler       0.00      0.00      0.00         1\n",
      "                                                                                         Ev / Bakım > Sağlık ve Yaşam > Ağız ve Diş Sağlığı       0.00      0.00      0.00         0\n",
      "                                                                                               Ev Aletleri & Elektronik > Ev Sinema Sistemi       0.00      0.00      0.00         0\n",
      "                                                                                                      Ev Aletleri & Elektronik > Televizyon       0.00      0.00      0.00         0\n",
      "                                                                                                                       Ev Aletleri > Ütüler       0.00      0.00      0.00         1\n",
      "                                                                            Ev Elektroniği & TV > Televizyon & Aksesuarları > Televizyonlar       0.00      0.00      0.00         1\n",
      "                                                                                               Ev Elektroniği > Ev Sinema Sistemi > SAMSUNG       0.00      0.00      0.00         0\n",
      "                                                                                                                     Flash Bellek > SANDISK       0.00      0.00      0.00         1\n",
      "                                                                                             Foto & Kamera > Fotoğraf Makinesi ve Kameralar       0.00      0.00      0.00         0\n",
      "                                                                                           Foto Mak. & Kamera > Dijital Fotoğraf Makineleri       0.00      0.00      0.00         1\n",
      "                                                                                                        Foto&Kamera > SLR Fotoğraf Makinesi       0.00      0.00      0.00         0\n",
      "                                                                                            Fotoğraf & Kamera > Compact Fotoğraf Makineleri       0.00      0.00      0.00         1\n",
      "                                                                                                Fotoğraf & Kamera > SLR Fotoğraf Makineleri       0.00      0.00      0.00         0\n",
      "                                                                                                       Fotoğraf - Video > Fotoğraf Makinesi       0.00      0.00      0.00         0\n",
      "                                                                                     Fotoğraf / Elektronik > Hafıza Kartı > Kart Okuyucular       0.00      0.00      0.00         1\n",
      "                                                                                              Fotoğraf / Elektronik > SLR Fotoğraf Makinesi       0.00      0.00      0.00         1\n",
      "                                                                                              Fotoğraf Makinesi ve Kamera > Hafıza Kartları       0.00      0.00      0.00         0\n",
      "                                                                                       Fotoğraf Makinesi ve Lens > DSLR Fotoğraf Makineleri       1.00      1.00      1.00         1\n",
      "                                                                                                                   Hesap Makineleri > Casio       0.00      0.00      0.00         0\n",
      "                                                                           Hobi & Oyun Konsolları > Oyun&Oyun Konsolu > Bilgisayar Oyunları       0.00      0.00      0.00         0\n",
      "                                                                                                Hobi & Oyun Konsolları > Oyunlar > PC Oyunu       0.00      0.00      0.00         0\n",
      "                                                                                                Hobi / Oyun / Müzik > Oyunlar > PC Oyunları       0.00      0.00      0.00         1\n",
      "                                                                                         Iphone 6 Plus 16GB Gümüş - Apple Türkiye Garantili       0.00      0.00      0.00         0\n",
      "                                                                                                              Isıtma & Soğutma > Isıtıcılar       0.00      0.00      0.00         0\n",
      "                                                                                                                                     Kamera       0.00      0.00      0.00         1\n",
      "                                                                                   Kişisel Bilgisayarlar > Taşınabilir Bilgisayarlar > ASUS       0.50      1.00      0.67         1\n",
      "                                                                                Kişisel Bilgisayarlar > Taşınabilir Bilgisayarlar > Samsung       0.50      1.00      0.67         1\n",
      "                                                                               Küçük Ev Aletleri > Mutfak Ürünleri > Meyve Sıkıcı > KORKMAZ       0.00      0.00      0.00         0\n",
      "                                                                                                                    Küçük Ev Aletleri > Ütü       0.00      0.00      0.00         1\n",
      "                                                                                                         Küçük Ev Aletleri > Ütüler > FAKIR       0.00      0.00      0.00         0\n",
      "                                                                                                         Küçük Ev Aletleri > Ütüler > TEFAL       0.00      0.00      0.00         0\n",
      "                                                                                                                           Led Tv > SAMSUNG       0.00      0.00      0.00         1\n",
      "                                                                                                                Monitörler > LCD Monitörler       0.00      0.00      0.00         1\n",
      "                                                                                                                            Mouse > EVEREST       0.00      0.00      0.00         1\n",
      "                                                                                                                               Mouse > INCA       0.00      0.00      0.00         1\n",
      "                                                                                                                           Mouse > LOGITECH       0.00      0.00      0.00         1\n",
      "                                                                                                                          Mouse > MICROSOFT       0.00      0.00      0.00         1\n",
      "                                                                                                                Mürekkep Kartuşları > Canon       0.00      0.00      0.00         0\n",
      "                                                                                                                   Mürekkep Kartuşları > HP       0.00      0.00      0.00         1\n",
      "                                                                                                                 Network > Kablosuz Ürünler       0.00      0.00      0.00         0\n",
      "                                                                                Network Ürünleri > Modemler > Kablosuz ADSL Modemler > ASUS       0.00      0.00      0.00         0\n",
      "                                                                           Network Ürünleri > Network Aksesuarları > Network Kart > AIRTIES       0.00      0.00      0.00         0\n",
      "                                                                              Network Ürünleri > Network Aksesuarları > Network Kart > ASUS       0.00      0.00      0.00         0\n",
      "                                                                            Network Ürünleri > Network Aksesuarları > Range Extender > ASUS       0.00      0.00      0.00         1\n",
      "                                                                                      OEM & Çevre Birimleri > Güç Kaynakları (power supply)       0.00      0.00      0.00         0\n",
      "                                                                                               OEM & Çevre Birimleri > Kablosuz Ağ Ürünleri       0.00      0.00      0.00         1\n",
      "                                                                                        OEM Ürünleri > Anakartlar > INTEL Uyumlu > GIGABYTE       0.00      0.00      0.00         1\n",
      "                                                                                  OEM Ürünleri > Bilgisayar Kasaları > Full Tower > CORSAIR       0.00      0.00      0.00         0\n",
      "                                                                                          OEM Ürünleri > DVD ve Blu-Ray > Blu-Ray > PIONEER       0.00      0.00      0.00         1\n",
      "                                                                                        OEM Ürünleri > Monitörler > Geniş Ekran > VIEWSONIC       0.00      0.00      0.00         1\n",
      "                                                                                             OEM Ürünleri > Mouse > Notebook Mouse > FRISBY       0.00      0.00      0.00         0\n",
      "                                                                                               OEM Ürünleri > Mouse > Notebook Mouse > INCA       0.00      0.00      0.00         0\n",
      "                                                                                           OEM Ürünleri > Mouse > Notebook Mouse > LOGITECH       0.00      0.00      0.00         1\n",
      "                                                                                                 OEM Ürünleri > Solid State Disk > KINGSTON       0.00      0.00      0.00         0\n",
      "                                                                                      OEM Ürünleri > Soğutma Sistemleri > Fanlar > XIGMATEK       0.00      0.00      0.00         0\n",
      "                                                                                       OEM Ürünleri > Soğutma Sistemleri > İşlemci > ZALMAN       0.00      0.00      0.00         1\n",
      "                                                                                              OVERCLOCK VE SOĞUTMA > OEM > CNPS11X Performa       0.00      0.00      0.00         1\n",
      "                                                                                                                                  Overclock       0.00      0.00      0.00         1\n",
      "                                                                                                               Oyun - Hobi > Oyun > Oyunlar       1.00      0.50      0.67         2\n",
      "                                                                                                                     Oyun Dünyası > Oyunlar       0.00      0.00      0.00         0\n",
      "                                                                                                               Oyun Dünyası > Oyunlar > PS3       0.00      0.00      0.00         1\n",
      "                                                                                                                     PC / Monitör > Monitör       0.00      0.00      0.00         0\n",
      "                                                                                            Philips 18.5 193V5LSB2-62 LED Monitör 5ms Siyah       0.00      0.00      0.00         0\n",
      "                                                                                                        Piller ve Şarj Aletleri > Energizer       0.00      0.00      0.00         0\n",
      "                                                                                                                           Radyatör > FAKİR       1.00      1.00      1.00         1\n",
      "                                                                                                                 Sarf > Mürekkep Kartuşları       0.00      0.00      0.00         0\n",
      "                                                                                                                    Sarf > Yazıcı Şeritleri       0.00      0.00      0.00         1\n",
      "                                                                                                                       Sd Kartlar > SANDISK       0.00      0.00      0.00         0\n",
      "                                                                                      Seagate STDR1000200 2.5 1TB Backup Plus USB 3.0 Siyah       0.00      0.00      0.00         1\n",
      "                                                                                                          Ses - Görüntü Ürünleri > Kulaklık       0.00      0.00      0.00         0\n",
      "                                                                                                              Slr Fotoğraf Makinesi > NIKON       0.00      0.00      0.00         0\n",
      "                                                                                          Sony Xperia Z2 D6503 16GB 3G Cep Telefonu (Beyaz)       0.00      0.00      0.00         1\n",
      "                                                                                                                     Soğutucu(Fan) > Zalman       0.00      0.00      0.00         0\n",
      "                                                                                          TV & Görüntü Sistemleri > TV Sehpa & Askı & Stand       0.00      0.00      0.00         1\n",
      "                                                                                                                           Tablet Pc > ASUS       0.00      0.00      0.00         1\n",
      "                                                                                                       Telefon - İletişim > Cep Telefonları       0.00      0.00      0.00         1\n",
      "                                                                                                    Telefon - İletişim > Kablolu Telefonlar       0.00      0.00      0.00         2\n",
      "                                                                      Telefon >  Cep Telefonları >  Cep Telefonu & Smartphone >  Smartphone       0.00      0.00      0.00         2\n",
      "                                                                                                                Telefon > Akıllı Telefonlar       0.00      0.00      0.00         1\n",
      "                                                                                           Telefon > Cep Telefon Aksesuarları > Şarj Cihazı       0.00      0.00      0.00         1\n",
      "                                                                                                 Telefon > Cep Telefonu > Akıllı Telefonlar       0.00      0.00      0.00         1\n",
      "                                                                                                                  Telefon > Kablolu Telefon       0.00      0.00      0.00         0\n",
      "                                                                                                              Telefon > Kablosuz Telefonlar       0.00      0.00      0.00         1\n",
      "                                                                                                                   Telefon > Samsung Galaxy       0.00      0.00      0.00         1\n",
      "                                                                                                                       Telefon > Smartphone       0.00      0.00      0.00         0\n",
      "                                                                                                                           Telefon > iPhone       0.00      0.00      0.00         1\n",
      "                                                                                                    Televizyon > LED Televizyon > LG Led Tv       0.00      0.00      0.00         0\n",
      "                                                                                                                        Televizyon > Led Tv       0.00      0.00      0.00         0\n",
      "                                                                                                                Toner Kartuş Şerit > Kartuş       0.50      1.00      0.67         1\n",
      "                                                                                                                 Toner Kartuş Şerit > Şerit       0.00      0.00      0.00         0\n",
      "                                                                                                                       Tv Aksesuar > S-LINK       0.00      0.00      0.00         1\n",
      "                                                                                Tüketici Elektroniği > Cep Telefonu > Akıllı Telefon > SONY       0.00      0.00      0.00         1\n",
      "                                                                       Tüketici Elektroniği > Fotoğraf Makinesi > Dijital Kompakt > SAMSUNG       0.00      0.00      0.00         1\n",
      "                                                                             Tüketici Elektroniği > Fotoğraf Makinesi > Dijital SLR > CANON       0.00      0.00      0.00         0\n",
      "                                                                                       Tüketici Elektroniği > Hafıza Kartı > SDHC > SANDISK       0.00      0.00      0.00         1\n",
      "                                                                               Tüketici Elektroniği > Kablolu Telefonlar > Görüntülü > TTEC       0.00      0.00      0.00         0\n",
      "                                                                              Tüketici Elektroniği > Kablolu Telefonlar > Görüntüsüz > TTEC       0.00      0.00      0.00         1\n",
      "                                                                                            Tüketici Elektroniği > Televizyon > 3D LED > LG       0.00      0.00      0.00         0\n",
      "                                                                                       Tüketici Elektroniği > Televizyon > 3D LED > SAMSUNG       1.00      1.00      1.00         1\n",
      "                                                                                                          Tüketim Malzemeleri > Kartuş > HP       0.00      0.00      0.00         1\n",
      "                                                                                                                Uydu Alıcıları > GOLDMASTER       0.00      0.00      0.00         1\n",
      "                                                                                                                  Yazıcı > Yazıcı Çeşitleri       1.00      1.00      1.00         1\n",
      "                                                                                                    Yazılım > Eğitim Yazılımları > EUROSOFT       0.00      0.00      0.00         0\n",
      "                                                                                                              Yazılım > Oyunlar > PC > ARAL       1.00      1.00      1.00         1\n",
      "                                                          Yağlı Radyatörler > Resim > Fakir > Fakir RH-12 Halojenli 12 Dilim Yağlı Radyatör       0.00      0.00      0.00         1\n",
      "                                                                                                              Çevre Birimler > Kart Okuyucu       0.00      0.00      0.00         1\n",
      "                                                                                                            Çevre Birimler > Klavye - Mouse       0.00      0.00      0.00         0\n",
      "                                                                                                      Çevre Birimler > Kulaklık ve Mikrofon       0.00      0.00      0.00         1\n",
      "                                                                                                            Çevre Birimleri > ADSL Modemler       0.00      0.00      0.00         2\n",
      "                                                                                         Çevre Birimleri > Hoparlör Speaker > 2+1 > EDIFIER       0.00      0.00      0.00         0\n",
      "                                                                                                              Çevre Birimleri > Hoparlörler       0.00      0.00      0.00         1\n",
      "                                                                         Çevre Birimleri > Kesintisiz Güç Kaynakları > On Line > POWERSONIC       0.00      0.00      0.00         1\n",
      "                                                                                                          Çevre Birimleri > Modemler > ASUS       0.00      0.00      0.00         0\n",
      "                                                                                                                                Ütü > TEFAL       0.00      0.00      0.00         0\n",
      "                                                                                                             İnternet - Ağ Ürünleri > Modem       0.00      0.00      0.00         1\n",
      "\n",
      "                                                                                                                                   accuracy                           0.16       147\n",
      "                                                                                                                                  macro avg       0.09      0.09      0.09       147\n",
      "                                                                                                                               weighted avg       0.16      0.16      0.15       147\n",
      "\n"
     ]
    },
    {
     "name": "stderr",
     "output_type": "stream",
     "text": [
      "/opt/anaconda3/envs/ml/lib/python3.12/site-packages/sklearn/metrics/_classification.py:1469: UndefinedMetricWarning: Precision and F-score are ill-defined and being set to 0.0 in labels with no predicted samples. Use `zero_division` parameter to control this behavior.\n",
      "  _warn_prf(average, modifier, msg_start, len(result))\n",
      "/opt/anaconda3/envs/ml/lib/python3.12/site-packages/sklearn/metrics/_classification.py:1469: UndefinedMetricWarning: Recall and F-score are ill-defined and being set to 0.0 in labels with no true samples. Use `zero_division` parameter to control this behavior.\n",
      "  _warn_prf(average, modifier, msg_start, len(result))\n",
      "/opt/anaconda3/envs/ml/lib/python3.12/site-packages/sklearn/metrics/_classification.py:1469: UndefinedMetricWarning: Precision and F-score are ill-defined and being set to 0.0 in labels with no predicted samples. Use `zero_division` parameter to control this behavior.\n",
      "  _warn_prf(average, modifier, msg_start, len(result))\n",
      "/opt/anaconda3/envs/ml/lib/python3.12/site-packages/sklearn/metrics/_classification.py:1469: UndefinedMetricWarning: Recall and F-score are ill-defined and being set to 0.0 in labels with no true samples. Use `zero_division` parameter to control this behavior.\n",
      "  _warn_prf(average, modifier, msg_start, len(result))\n",
      "/opt/anaconda3/envs/ml/lib/python3.12/site-packages/sklearn/metrics/_classification.py:1469: UndefinedMetricWarning: Precision and F-score are ill-defined and being set to 0.0 in labels with no predicted samples. Use `zero_division` parameter to control this behavior.\n",
      "  _warn_prf(average, modifier, msg_start, len(result))\n",
      "/opt/anaconda3/envs/ml/lib/python3.12/site-packages/sklearn/metrics/_classification.py:1469: UndefinedMetricWarning: Recall and F-score are ill-defined and being set to 0.0 in labels with no true samples. Use `zero_division` parameter to control this behavior.\n",
      "  _warn_prf(average, modifier, msg_start, len(result))\n"
     ]
    }
   ],
   "source": [
    "print(\"Lojistik Regresyon Sınıflandırma Raporu:\")\n",
    "print(classification_report(y_test, y_pred))\n"
   ]
  },
  {
   "cell_type": "code",
   "execution_count": 45,
   "id": "9db9f861-96d9-4ff0-bd20-3e7caa8d2d6f",
   "metadata": {},
   "outputs": [
    {
     "data": {
      "text/plain": [
       "['./models/tfidf_vectorizer.joblib']"
      ]
     },
     "execution_count": 45,
     "metadata": {},
     "output_type": "execute_result"
    }
   ],
   "source": [
    "# Modeli ve vectorizer'ı kaydetme\n",
    "dump(best_log_reg_model, './models/logistic_regression_model.joblib')\n",
    "dump(vectorizer, './models/tfidf_vectorizer.joblib')"
   ]
  },
  {
   "cell_type": "markdown",
   "id": "01841605-dc49-4582-baa8-e847c06f6b86",
   "metadata": {},
   "source": [
    "#### Lojistik Regresyon ile oluşturduğum modelin doğruluk skoru yaklaşık olarak 0.2, F1 skoru ise 0.19 başka bir model deniyerek daha iyi bir sonuç alabilir miyim diye yeni bir model oluşturucam."
   ]
  },
  {
   "cell_type": "code",
   "execution_count": 46,
   "id": "aac6c9e5-af01-4d62-8444-0089be6008a1",
   "metadata": {},
   "outputs": [],
   "source": [
    "# Random Forest için hiperparametreler\n",
    "rf_param_grid = {\n",
    "    'n_estimators': [50, 100, 200],\n",
    "    'max_depth': [None, 10, 20, 30],\n",
    "    'min_samples_split': [2, 5, 10],\n",
    "    'min_samples_leaf': [1, 2, 4],\n",
    "    'bootstrap': [True, False]\n",
    "}"
   ]
  },
  {
   "cell_type": "markdown",
   "id": "caa2c6f8-da95-496c-b8e2-f26c62e6777b",
   "metadata": {},
   "source": [
    "####  n_estimators: Ormandaki ağaç sayısını belirler\n",
    "####  max_depth: Her ağacın maksimum derinliğini belirler \n",
    "####  min_samples_split: Bir düğümün bölünmesi için gereken minimum örnek sayısını belirler \n",
    "####  min_samples_leaf: Bir yaprak düğümde bulunması gereken minimum örnek sayısını belirler \n",
    "####  bootstrap: Bootstrap örneklemeyi kullanıp kullanmayacağını belirler (örneğin, True, False)."
   ]
  },
  {
   "cell_type": "code",
   "execution_count": 47,
   "id": "4cf50802-188d-455b-ad4d-d49dfd343632",
   "metadata": {},
   "outputs": [
    {
     "name": "stderr",
     "output_type": "stream",
     "text": [
      "/opt/anaconda3/envs/ml/lib/python3.12/site-packages/sklearn/model_selection/_split.py:725: UserWarning: The least populated class in y has only 1 members, which is less than n_splits=3.\n",
      "  warnings.warn(\n"
     ]
    },
    {
     "name": "stdout",
     "output_type": "stream",
     "text": [
      "En iyi Random Forest parametreleri: {'bootstrap': False, 'max_depth': None, 'min_samples_leaf': 1, 'min_samples_split': 2, 'n_estimators': 100}\n",
      "En iyi Random Forest doğruluk: 0.2415639507460093\n"
     ]
    }
   ],
   "source": [
    "# Grid Search ile en iyi parametrelerin bulunması\n",
    "rf_grid_search = GridSearchCV(estimator=RandomForestClassifier(random_state=42), param_grid=rf_param_grid, cv=3, scoring='accuracy', n_jobs=-1)\n",
    "rf_grid_search.fit(X_train_tfidf, y_train)\n",
    "best_rf_params = rf_grid_search.best_params_\n",
    "print(f\"En iyi Random Forest parametreleri: {best_rf_params}\")\n",
    "print(f\"En iyi Random Forest doğruluk: {rf_grid_search.best_score_}\")"
   ]
  },
  {
   "cell_type": "code",
   "execution_count": 48,
   "id": "99584a72-46d1-4e70-a6d9-09ec96e556e4",
   "metadata": {},
   "outputs": [],
   "source": [
    "# En iyi parametreleri kullanarak random forest modelini eğitme\n",
    "best_rf_model = RandomForestClassifier(random_state=42, **best_rf_params)\n",
    "best_rf_model.fit(X_train_tfidf, y_train)\n",
    "y_pred_rf = best_rf_model.predict(X_test_tfidf)"
   ]
  },
  {
   "cell_type": "code",
   "execution_count": 40,
   "id": "29f4bf57-6198-4f54-919a-748c23bacc2b",
   "metadata": {},
   "outputs": [],
   "source": [
    "# Random Forest Modeli\n",
    "#rf_model = RandomForestClassifier(random_state=42)"
   ]
  },
  {
   "cell_type": "code",
   "execution_count": 49,
   "id": "de22925d-de30-4c12-9d3e-589335216ead",
   "metadata": {},
   "outputs": [
    {
     "name": "stdout",
     "output_type": "stream",
     "text": [
      "Random Forest Test seti doğruluğu: 0.2645161290322581\n",
      "Random Forest Test seti F1 skoru: 0.2602150537634409\n"
     ]
    }
   ],
   "source": [
    "# Performans Metrikleri\n",
    "print(f\"Random Forest Test seti doğruluğu: {accuracy_score(y_test, y_pred_rf)}\")\n",
    "print(f\"Random Forest Test seti F1 skoru: {f1_score(y_test, y_pred_rf, average='weighted')}\")"
   ]
  },
  {
   "cell_type": "code",
   "execution_count": 50,
   "id": "dd67a8ae-c0d2-402d-8f80-42bc617d24f8",
   "metadata": {
    "collapsed": true,
    "jupyter": {
     "outputs_hidden": true
    }
   },
   "outputs": [
    {
     "name": "stdout",
     "output_type": "stream",
     "text": [
      "Random Forest Sınıflandırma Raporu:\n",
      "                                                                                                                                       precision    recall  f1-score   support\n",
      "\n",
      "                                                                      Aksesuar & Sarf Malz. > Projeksiyon Aksesuarları > Askı Aparatı       1.00      1.00      1.00         1\n",
      "                                                                                  Aksesuar & Sarf Malz. > Çantalar > Tablet Çantaları       0.00      0.00      0.00         1\n",
      "                                                                                                  Aksesuar & Sarf Malz. > Çeviriciler       0.00      0.00      0.00         1\n",
      "                                             Aksesuar > Çanta - Kılıf > Tablet Kılıfı > Addison IP-262 7\" Tablet Kılıfı Standlı Pembe       0.00      0.00      0.00         1\n",
      "                                                                    Aksesuar Ürünleri > Kablolar > USB Bağlantı Kabloları > ENERGIZER       0.00      0.00      0.00         2\n",
      "                                                                                Aksesuar Ürünleri > Kart Okuyucular > Harici > FRISBY       0.00      0.00      0.00         0\n",
      "                                                                Aksesuar Ürünleri > Kulaklık ve Mikrofon > HeadSet Kulaklık > PHILIPS       0.00      0.00      0.00         1\n",
      "                                                                  Aksesuar Ürünleri > Kulaklık ve Mikrofon > HeadSet Kulaklık > SNOPY       0.00      0.00      0.00         0\n",
      "                                                                 Aksesuar Ürünleri > Kulaklık ve Mikrofon > Oyun Kulaklığı > CREATIVE       0.00      0.00      0.00         0\n",
      "                                                                 Aksesuar Ürünleri > Kulaklık ve Mikrofon > Oyun Kulaklığı > LOGITECH       0.00      0.00      0.00         1\n",
      "                                                        Aksesuar Ürünleri > Piller ve Şarj Aletleri > Telefon Şarj Aletleri > PHILIPS       0.00      0.00      0.00         0\n",
      "                                                                Aksesuar Ürünleri > Çantalar ve Kılıflar > Tablet Kılıfları > ADDISON       0.00      0.00      0.00         0\n",
      "                                                                                                        Asus ME176CX-1B008A Tablet Pc       0.00      0.00      0.00         1\n",
      "                                                                                                          Ağız Bakım Ürünleri > BRAUN       0.00      0.00      0.00         0\n",
      "                                                                                           Baskı Ürünleri > Aksesuar ve Sarf > Kartuş       0.00      0.00      0.00         0\n",
      "                                                                                            Baskı Ürünleri > Aksesuar ve Sarf > Toner       0.00      0.00      0.00         1\n",
      "                                                                                                  Bilg.Parçaları > Fan ve Soğutucular       0.00      0.00      0.00         0\n",
      "                                                                                                       Bilg.Parçaları > Sabit Diskler       0.00      0.00      0.00         1\n",
      "                                                                                   Bilgisayar >  Bilgisayar Bileşenleri >  Anakartlar       0.00      0.00      0.00         1\n",
      "                                                                                                   Bilgisayar > Ag / Modem > Modemler       0.00      0.00      0.00         1\n",
      "                                                                                           Bilgisayar > Ag / Modem > Network Kartları       0.00      0.00      0.00         1\n",
      "                                                                               Bilgisayar > Ağ Ürünleri & Modemler > Wireless Adaptör       0.00      0.00      0.00         0\n",
      "                                                                              Bilgisayar > Baskı, Printer, Fax > Mürekkep Püskürtmeli       0.00      0.00      0.00         1\n",
      "                                                                                  Bilgisayar > Bilgisayar Aksesuarlar > Disk Kutuları       0.00      0.00      0.00         1\n",
      "                                                                          Bilgisayar > Bilgisayar Aksesuarlar > Notebook Soğutucuları       0.00      0.00      0.00         1\n",
      "                                                                                       Bilgisayar > Bilgisayar Aksesuarlar > Çantalar       1.00      1.00      1.00         1\n",
      "                                                                                  Bilgisayar > Bilgisayar Aksesuarları > Kart okuyucu       0.00      0.00      0.00         1\n",
      "                                                              Bilgisayar > Bilgisayar Aksesuarları > Notebook Aksesuarları > Çantalar       0.00      0.00      0.00         0\n",
      "                                                                           Bilgisayar > Bilgisayar Aksesuarları > Tablet Aksesuarları       0.00      0.00      0.00         1\n",
      "                                                                             Bilgisayar > Bilgisayar Aksesuarları > iPad Aksesuarları       0.00      0.00      0.00         0\n",
      "                                                            Bilgisayar > Bilgisayar Bilesenleri > Bellek (Ram) > Masaüstü Bellek(Ram)       0.00      0.00      0.00         1\n",
      "                                  Bilgisayar > Bilgisayar Bileşenleri > Anakartlar > GIGABYTE Z97X-GAMING5 S/L/V PCI HDMI SLI LGA1150       0.00      0.00      0.00         1\n",
      "                                                                                   Bilgisayar > Bilgisayar Bileşenleri > Bellek (Ram)       0.00      0.00      0.00         0\n",
      "                                                                            Bilgisayar > Bilgisayar Bileşenleri > Bilgisayar Kasaları       0.00      0.00      0.00         0\n",
      "                                                                                 Bilgisayar > Bilgisayar Bileşenleri > Ekran Kartları       0.00      0.00      0.00         0\n",
      "                                                                                   Bilgisayar > Bilgisayar Bileşenleri > Kasa Fanları       0.00      0.00      0.00         0\n",
      "                                                                        Bilgisayar > Bilgisayar Bileşenleri > Overclock / Soğutucular       0.00      0.00      0.00         1\n",
      "                               Bilgisayar > Bilgisayar Bileşenleri > Soğutucular > CORSAIR H100i Hydro Serisi Sıvı CPU Soğutma Sistem       0.00      0.00      0.00         1\n",
      "                                                        Bilgisayar > Bilgisayar Bileşenleri > Tüketim Malzemeleri > Yazıcı Kartuşları       0.00      0.00      0.00         0\n",
      "                                                           Bilgisayar > Bilgisayar Parçaları > Hafıza Kartları > Sd Kartlar > Sandisk       0.00      0.00      0.00         0\n",
      "                                                Bilgisayar > Bilgisayar Parçaları > Sabit / Taşınabilir Disk > Ssd Harddisk > Corsair       0.00      0.00      0.00         1\n",
      "                                                          Bilgisayar > Bilgisayar Parçaları > Tüketim Malzemeleri > Kartuşlar > Epson       0.00      0.00      0.00         1\n",
      "                                                      Bilgisayar > Bilgisayar Parçaları > Yazıcı / Tarayıcı > Çok Fonksiyonlu > Canon       0.00      0.00      0.00         0\n",
      "                                                         Bilgisayar > Bilgisayar Yan Ürünleri > Kablolar > HDMI Kablolar > Goldmaster       1.00      1.00      1.00         1\n",
      "                                                            Bilgisayar > Bilgisayar-Dizüstü > Yedekleme > Yedekleme Üniteleri > Zyxel       0.00      0.00      0.00         1\n",
      "                                                           Bilgisayar > Bilgisayar-Dizüstü > iPad Aksesuarları > iPad Kalemi > Targus       0.00      0.00      0.00         1\n",
      "                                                                                                  Bilgisayar > Bilgisayarlar > Tablet       0.00      0.00      0.00         1\n",
      "Bilgisayar > Bilgisayarlar > Tablet Pcler > ASUS ME176CX-1B008A Memo Pad intel ATOM Z3745 1.86GHz 1GB 8GB 7\" ANDROID 4.4 KitKat Beyaz       0.00      0.00      0.00         1\n",
      "                                                                                  Bilgisayar > Bilgisayarlar > Taşınabilir Bilgisayar       0.00      0.00      0.00         0\n",
      "                                                                                                          Bilgisayar > Klavye & Mouse       1.00      1.00      1.00         1\n",
      "                                                                                                                 Bilgisayar > Monitör       0.00      0.00      0.00         2\n",
      "                                                                                                   Bilgisayar > Monitör > LED Monitör       1.00      1.00      1.00         1\n",
      "                                                                                            Bilgisayar > Notebook > 2’si 1 Arada > HP       0.00      0.00      0.00         0\n",
      "                                                                                                       Bilgisayar > Notebook > LENOVO       0.00      0.00      0.00         1\n",
      "                                                                                                Bilgisayar > Sarf Malzemeler > Kartuş       0.00      0.00      0.00         1\n",
      "                                                                                     Bilgisayar > Sarf Malzemeler > Mürekkep - Kartuş       0.00      0.00      0.00         0\n",
      "                                                                                                 Bilgisayar > Sarf Malzemeler > Toner       0.00      0.00      0.00         0\n",
      "                                                                                                                  Bilgisayar > Tablet       0.00      0.00      0.00         0\n",
      "                                                                                               Bilgisayar > Taşınabilir Bilgisayarlar       1.00      1.00      1.00         1\n",
      "                                                                                                           Bilgisayar > Veri Depolama       0.50      0.50      0.50         2\n",
      "                                                                                         Bilgisayar > Veri Depolama > Hafıza Kartları       0.00      0.00      0.00         1\n",
      "                                                                                 Bilgisayar > Veri Depolama > SSD (Solid State Drive)       0.00      0.00      0.00         1\n",
      "                                                                                                  Bilgisayar > Wireless & Ağ Ürünleri       0.00      0.00      0.00         0\n",
      "                                                      Bilgisayar > Yazıcı & Sarf Malzemeleri > Sarf Malzemeleri > Mürekkep Kartuşları       0.00      0.00      0.00         0\n",
      "                                                                    Bilgisayar > Yazıcı & Sarf Malzemeleri > Sarf Malzemeleri > Toner       0.00      0.00      0.00         0\n",
      "                                                                    Bilgisayar > Yazıcı & Sarf Malzemeleri > Sarf Malzemeleri > Şerit       0.00      0.00      0.00         1\n",
      "                                                                      Bilgisayar > Yazıcı & Tarayıcı > Mürekkep Püskürtmeli Yazıcılar       0.00      0.00      0.00         0\n",
      "                                                                                       Bilgisayar > Yazıcı > Çok İşlevli Laser Yazıcı       0.00      0.00      0.00         0\n",
      "                                                                                             Bilgisayar > Yazıcı > Çok İşlevli Yazıcı       0.00      0.00      0.00         1\n",
      "                                                                                           Bilgisayar > Yazıcılar > Kartuş-Toner-Drum       1.00      1.00      1.00         1\n",
      "                                                                                    Bilgisayar > Yazıcılar ve Aksesuarlar > Yazıcılar       1.00      1.00      1.00         1\n",
      "                                                                        Bilgisayar > Yazılım Ürünleri > Oyunlar > Bilgisayar Oyunları       0.00      0.00      0.00         0\n",
      "                                                                                            Bilgisayar > Çevre Birimleri > ADSL Modem       1.00      1.00      1.00         1\n",
      "                                                                                                Bilgisayar > Çevre Birimleri > Klavye       0.00      0.00      0.00         0\n",
      "                           Bilgisayar > Çevre Birimleri > Klavye Mouse Takımları > LOGITECH MK240 Klavye+ Mouse Kablosuz (920-005789)       0.00      0.00      0.00         0\n",
      "                                                                                              Bilgisayar > Çevre Birimleri > Kulaklık       0.00      0.00      0.00         1\n",
      "                                                                                  Bilgisayar > Çevre Birimleri > Kulaklık ve Mikrofon       0.00      0.00      0.00         1\n",
      "                                                                                            Bilgisayar > Çevre Birimleri > Monitörler       0.00      0.00      0.00         0\n",
      "                                                                                                 Bilgisayar > Çevre Birimleri > Mouse       1.00      1.00      1.00         2\n",
      "                                                                                                  Bilgisayar Bileşenleri > Anakartlar       0.00      0.00      0.00         0\n",
      "                                                                                       Bilgisayar Bileşenleri > Anakartlar > GIGABYTE       0.00      0.00      0.00         0\n",
      "                                                                                           Bilgisayar Bileşenleri > Bellek > Masaüstü       0.00      0.00      0.00         1\n",
      "                                                                                         Bilgisayar Bileşenleri > Hoparlör > CREATIVE       1.00      1.00      1.00         1\n",
      "                                                                                                        Bilgisayar Bileşenleri > Kasa       0.00      0.00      0.00         0\n",
      "                                                                                        Bilgisayar Bileşenleri > Monitörler > PHILIPS       0.50      1.00      0.67         1\n",
      "                                                                         Bilgisayar Bileşenleri > Overclock ve Soğutma > Sıvı Soğutma       0.00      0.00      0.00         0\n",
      "                                                                                                Bilgisayar Bileşenleri > Power Supply       0.00      0.00      0.00         0\n",
      "                                                                                         Bilgisayar Bileşenleri > Ses Kartları > ASUS       0.00      0.00      0.00         0\n",
      "                                                                   Bilgisayar Tablet Yazıcı > Bilgisayar Bileşenleri > Ekran Kartları       0.00      0.00      0.00         0\n",
      "                                                                     Bilgisayar Tablet Yazıcı > Bilgisayar Bileşenleri > Power Supply       1.00      1.00      1.00         1\n",
      "                                                                    Bilgisayar Tablet Yazıcı > Kulaklık Webcam Hoperlör > Hoparlörler       0.00      0.00      0.00         1\n",
      "                                                          Bilgisayar Tablet Yazıcı > Modemler ve Ağ Ürünleri > Access Point ve Router       0.00      0.00      0.00         1\n",
      "                                                                        Bilgisayar Tablet Yazıcı > Modemler ve Ağ Ürünleri > Modemler       1.00      1.00      1.00         1\n",
      "                                                                Bilgisayar Tablet Yazıcı > Modemler ve Ağ Ürünleri > Wireless Adaptör       0.00      0.00      0.00         1\n",
      "                                                                                                Bilgisayar Tablet Yazıcı > Monitörler       1.00      1.00      1.00         1\n",
      "                                                                                                    Bilgisayar Tablet Yazıcı > Tablet       0.50      1.00      0.67         1\n",
      "                                                                              Bilgisayar Tablet Yazıcı > Yazılım > Office Yazılımları       0.00      0.00      0.00         0\n",
      "                                                              Bilgisayar Ürünleri > Aksesuarlar > Kablolar > Ses ve Görüntü Kabloları       0.00      0.00      0.00         0\n",
      "                                                                   Bilgisayar Ürünleri > Aksesuarlar > Tablet Aksesuar > Tablet Kılıf       1.00      1.00      1.00         1\n",
      "                                                                                         Bilgisayar Ürünleri > Aksesuarlar > Çevirici       0.00      0.00      0.00         1\n",
      "                                                Bilgisayar Ürünleri > Bilgisayar Bileşenleri (OEM) > Anakart > Intel Destekli Anakart       0.00      0.00      0.00         0\n",
      "                                                            Bilgisayar Ürünleri > Bilgisayar Bileşenleri (OEM) > Soğutucular / Fanlar       0.00      0.00      0.00         0\n",
      "                                                                      Bilgisayar Ürünleri > Bilgisayar Oyunları > Nintendo DS > Yarış       0.00      0.00      0.00         1\n",
      "                                                                                   Bilgisayar Ürünleri > Network / Modem > ADSL Modem       0.00      0.00      0.00         0\n",
      "                                                                                   Bilgisayar Ürünleri > Tüketim Malzemeleri > Kartuş       1.00      1.00      1.00         1\n",
      "                                                                        Bilgisayar Ürünleri > Veri Depolama > Veri Depolama Cihazları       0.00      0.00      0.00         0\n",
      "                                                                        Bilgisayar Ürünleri > Yazıcı/Tarayıcı > Çok Fonksiyonlu Lazer       0.00      0.00      0.00         1\n",
      "                                                                                  Bilgisayar Ürünleri > Çevre Birimleri > Hoparlörler       0.00      0.00      0.00         0\n",
      "                                                                                                          Bilgisayarlar > Masaüstü PC       0.00      0.00      0.00         0\n",
      "                                                                                Bilgisayarlar > Monitörler > LED Monitörler > PHILIPS       0.00      0.00      0.00         0\n",
      "                                                                                                               Bilgisayarlar > Tablet       0.00      0.00      0.00         1\n",
      "                                                                                     Bilgisayarlar > Taşınabilir Bilgisayarlar > ASUS       0.00      0.00      0.00         1\n",
      "                                                                                  Bilgisayarlar > Taşınabilir Bilgisayarlar > Samsung       0.00      0.00      0.00         1\n",
      "                                                             Bilgisayarlar > Çevre Birimleri > Kablolar > Prj. & VGA Kablosu > S-LINK       0.00      0.00      0.00         1\n",
      "                                                                                                            Cep Telefonları > Samsung       1.00      1.00      1.00         1\n",
      "                                                                                          Cep Telefonu ve Aksesuarları > Cep Telefonu       0.00      0.00      0.00         0\n",
      "                                                                                                      Elektrikli Ev Aletleri > Ütüler       1.00      1.00      1.00         1\n",
      "                                                                                                                           Elektronik       0.00      0.00      0.00         1\n",
      "                                                                           Elektronik & TV > Ses & Görüntü Sistemleri > Televizyonlar       0.00      0.00      0.00         1\n",
      "                                                                             Elektronik & TV > Tv Sehpaları Ve Askıları > Tv Askıları       0.00      0.00      0.00         1\n",
      "                                                                                                     Elektronik > Televizyon > LED TV       0.00      0.00      0.00         1\n",
      "                                                                                     Elektronik ve Televizyon > Projeksiyon Cihazları       0.00      0.00      0.00         1\n",
      "                                                                                            Ev / Bakım > Ütü Grubu > Buhar Tanklı Ütü       0.00      0.00      0.00         1\n",
      "                                                                                                                          Ev Aletleri       0.00      0.00      0.00         0\n",
      "                                                                                                Ev Aletleri & Elektronik > Televizyon       0.00      0.00      0.00         1\n",
      "                                                                                                Ev Aletleri & Elektronik > Uydu Alıcı       0.00      0.00      0.00         0\n",
      "                                                                                                       Ev Elektroniği > Televizyonlar       1.00      1.00      1.00         1\n",
      "                                                                                             Ev Elektroniği > Televizyonlar > SAMSUNG       0.00      0.00      0.00         0\n",
      "                                                                                                               Flash Bellek > SANDISK       0.00      0.00      0.00         1\n",
      "                                                                                                                   Flash Hafıza Kartı       0.00      0.00      0.00         1\n",
      "                                                                                      Foto & Kamera > Dijital SLR Fotoğraf Makineleri       1.00      1.00      1.00         1\n",
      "                                                                                                 Foto Mak. & Kamera > Video Kameralar       0.00      0.00      0.00         1\n",
      "                                                                                               Foto&Kamera > Aksesuar > Li-On Batarya       0.00      0.00      0.00         1\n",
      "                  Foto/Kamera > Dijital Fotoğraf Makineleri > Nikon COOLPIX-S2800B 20.1MP 5X 2,7\" Lcd Ekran Dijital Fotoğraf Makinesi       0.00      0.00      0.00         1\n",
      "                                                                                        Fotoğraf & Kamera > Compact Foto Mak. > NIKON       0.00      0.00      0.00         0\n",
      "                                                                                      Fotoğraf & Kamera > Compact Fotoğraf Makineleri       0.00      0.00      0.00         0\n",
      "                                                                                                           Fotoğraf & Kamera > Tripod       0.00      0.00      0.00         0\n",
      "                                                                                                      Fotoğraf - Video > Video Kamera       0.00      0.00      0.00         1\n",
      "                                                                               Fotoğraf / Elektronik > Hafıza Kartı > Kart Okuyucular       0.00      0.00      0.00         1\n",
      "                                                                                     Fotoğraf / Elektronik > Hafıza Kartı > SD Bellek       0.00      0.00      0.00         1\n",
      "                                                                                  Fotoğraf / Elektronik > Kulaklık > Tam Boy Kulaklık       0.00      0.00      0.00         1\n",
      "                                                                                                 Fotoğraf / Elektronik > Video Kamera       0.00      0.00      0.00         0\n",
      "                                                                                                Fotoğraf Makinesi Aksesuarı > Addison       0.00      0.00      0.00         1\n",
      "                                                                                        Fotoğraf Makinesi ve Kamera > Hafıza Kartları       0.00      0.00      0.00         0\n",
      "                                                                                           Hobi / Oyun / Müzik > Aksesuarlar > Joypad       0.00      0.00      0.00         0\n",
      "                                                                                          Hobi / Oyun / Müzik > Oyunlar > PC Oyunları       0.00      0.00      0.00         1\n",
      "                                   Hobi / Oyun Konsolu >  Oyun ve Oyun Konsolları >  Oyunlar >  Bilgisayar Oyunları >  Macera-Aksiyon       0.00      0.00      0.00         1\n",
      "                                                                                                        Hoparlör (speaker) > Logitech       0.00      0.00      0.00         1\n",
      "                                                                                                                               Kamera       0.00      0.00      0.00         1\n",
      "                                                                             Kişisel Bilgisayarlar > Taşınabilir Bilgisayarlar > ASUS       0.00      0.00      0.00         0\n",
      "                                                                          Kişisel Bilgisayarlar > Taşınabilir Bilgisayarlar > Samsung       0.00      0.00      0.00         0\n",
      "                                                                                                                  Kulaklık > Logitech       0.00      0.00      0.00         1\n",
      "                                                                                                                    Küçük Ev Aletleri       0.00      0.00      0.00         0\n",
      "                                                             Küçük Ev Aletleri > Kişisel Bakım Ürünleri > Baskül ve Teraziler > TEFAL       0.00      0.00      0.00         1\n",
      "                                                                                                                 Lazer Yazıcı > CANON       0.00      0.00      0.00         1\n",
      "                                                                                                                          Led Tv > LG       0.00      0.00      0.00         0\n",
      "                                                                                                                     Led Tv > SAMSUNG       0.00      0.00      0.00         1\n",
      "                                                                                     Mobilya > Tv Ünitesi / Tv Sehpası > Tv Sehpaları       0.00      0.00      0.00         1\n",
      "                                                                                                                      Modem > AIRTIES       0.00      0.00      0.00         1\n",
      "                                                                                                                              Monitör       1.00      0.50      0.67         2\n",
      "                                                                                                                  Müzik Çalar > APPLE       0.00      0.00      0.00         1\n",
      "                                                                       Network Ürünleri > Modemler > Kablosuz ADSL Modemler > AIRTIES       0.00      0.00      0.00         0\n",
      "                                                                                         Notebook Aksesuarları > Notebook Adaptörleri       0.00      0.00      0.00         1\n",
      "                                                                                OEM & Çevre Birimleri > Güç Kaynakları (power supply)       0.00      0.00      0.00         0\n",
      "                                                                                         OEM & Çevre Birimleri > Kablosuz Ağ Ürünleri       0.00      0.00      0.00         1\n",
      "                                                                                                   OEM & Çevre Birimleri > Monitörler       0.00      0.00      0.00         1\n",
      "                                                                                                                   OEM > Ses Kartları       0.00      0.00      0.00         1\n",
      "                                                                                              OEM Ürünleri > Bellekler > PC > CORSAIR       1.00      1.00      1.00         1\n",
      "                                                                            OEM Ürünleri > Bilgisayar Kasaları > Full Tower > CORSAIR       0.00      0.00      0.00         1\n",
      "                                                                    OEM Ürünleri > Bilgisayar Kasaları > Middle Tower > COOLER MASTER       0.00      0.00      0.00         1\n",
      "                                                                                        OEM Ürünleri > Güç Kaynakları > COOLER MASTER       0.00      0.00      0.00         1\n",
      "                                                                               OEM Ürünleri > Klavyeler > Klavye Mouse Set > LOGITECH       0.00      0.00      0.00         1\n",
      "                                                                                     OEM Ürünleri > Mouse > Notebook Mouse > LOGITECH       0.00      0.00      0.00         0\n",
      "                                                                           OEM Ürünleri > Soğutma Sistemleri > Sıvı Soğutma > CORSAIR       0.00      0.00      0.00         0\n",
      "                                                                                                  OEM Ürünleri > USB Bellek > CORSAIR       0.00      0.00      0.00         1\n",
      "                                                                                                                                Other       1.00      1.00      1.00         3\n",
      "                                                                                Oto Aksesuar > Ses & Görüntü Sistemleri > Hoparlörler       0.00      0.00      0.00         1\n",
      "                                                                                            Oto Ses Görüntü > Oto Hoparlörü > PIONEER       0.00      0.00      0.00         1\n",
      "                                                                                           Oto Ses Görüntü > Oto Hoparlörü > ROADSTAR       0.00      0.00      0.00         0\n",
      "                                                                                     Oyun - Hobi > Oyun > Oyun Aksesuarları > Gamepad       0.00      0.00      0.00         1\n",
      "                                                                                                         Oyun - Hobi > Oyun > Oyunlar       0.50      1.00      0.67         1\n",
      "                                                                                                               Oyun Dünyası > Oyunlar       0.00      0.00      0.00         0\n",
      "                                                                                                              Oyun Konsolları > SNOPY       0.00      0.00      0.00         1\n",
      "                                                                                                Oyun ve Oyun Konsolları > PC Oyunları       1.00      1.00      1.00         2\n",
      "                                                                                          Oyun ve Oyun Konsolları > Xbox 360 Oyunları       0.00      0.00      0.00         1\n",
      "                                                                                                       Oyun ve Oyun Konsolu > Oyunlar       0.00      0.00      0.00         0\n",
      "                                                                                                        SES SİSTEMİ > CREATIVE > A120       0.00      0.00      0.00         1\n",
      "                                                                                                    SSD (Solid State Drive) > CORSAIR       0.00      0.00      0.00         1\n",
      "                                                                                                                      Sarf > Tonerler       1.00      1.00      1.00         1\n",
      "                                                                                                                 Sd Kartlar > SANDISK       0.00      0.00      0.00         0\n",
      "                                                                                                    Ses - Görüntü Ürünleri > Hoparlör       0.00      0.00      0.00         0\n",
      "                                                                                                        Soğutucu(Fan) > Cooler Master       0.00      0.00      0.00         0\n",
      "                                                                                                        Taşınabilir Diskler > SEAGATE       0.00      0.00      0.00         0\n",
      "                                                                                              Telefon - İletişim > Kablolu Telefonlar       0.00      0.00      0.00         1\n",
      "                                                                Telefon >  Cep Telefonları >  Cep Telefonu & Smartphone >  Smartphone       0.00      0.00      0.00         0\n",
      "                                                                                                          Telefon > Akıllı Telefonlar       1.00      1.00      1.00         1\n",
      "                                                                                  Telefon > Cep Telefon Aksesuarları > Ekran Koruyucu       0.00      0.00      0.00         0\n",
      "                                                                                                            Telefon > Cep Telefonları       1.00      1.00      1.00         1\n",
      "                                                                                                               Telefon > Cep Telefonu       1.00      1.00      1.00         1\n",
      "                                                                                                            Telefon > Kablolu Telefon       0.00      0.00      0.00         0\n",
      "                                                                                                        Telefon > Kablosuz Telefonlar       0.00      0.00      0.00         1\n",
      "                                                                           Telefon > Telsiz - Kablolu Telefonlar > Kablolu Telefonlar       0.00      0.00      0.00         0\n",
      "                                                                                                       Telefonlar > Akıllı Telefonlar       1.00      1.00      1.00         1\n",
      "                                                                                              Televizyon > LED Televizyon > LG Led Tv       0.00      0.00      0.00         1\n",
      "                                                                                         Televizyon > LED Televizyon > Samsung Led Tv       0.00      0.00      0.00         0\n",
      "                                                                                                          Toner Kartuş Şerit > Kartuş       1.00      1.00      1.00         1\n",
      "                                                                                                           Toner Kartuş Şerit > Şerit       0.00      0.00      0.00         0\n",
      "                                                                                                                Tv Aksesuar > Everest       0.00      0.00      0.00         0\n",
      "                                                                                               Tüketici Elektroniği > Cep Telefonları       1.00      1.00      1.00         1\n",
      "                                                                 Tüketici Elektroniği > Fotoğraf Makinesi Lensleri > Tripod > ADDISON       0.00      0.00      0.00         0\n",
      "                                                                         Tüketici Elektroniği > Kablolu Telefonlar > Görüntülü > TTEC       0.00      0.00      0.00         1\n",
      "                                                                                       Tüketici Elektroniği > MP3 Çalar > Mp3 > APPLE       0.00      0.00      0.00         1\n",
      "                                                                      Tüketici Elektroniği > Projeksiyon Cihazları > Projeksiyon > LG       0.00      0.00      0.00         0\n",
      "                                                    Tüketici Elektroniği > Tedarik Bizden > Medikal ve Sağlık > Diğer Sağlık ürünleri       0.00      0.00      0.00         1\n",
      "                                                                                 Tüketici Elektroniği > Televizyon > 3D LED > SAMSUNG       0.00      0.00      0.00         0\n",
      "                                                                                                    Tüketim Malzemeleri > Kartuş > HP       1.00      1.00      1.00         1\n",
      "                                                                                                Tüketim Malzemeleri > Toner > SAMSUNG       0.00      0.00      0.00         1\n",
      "                                                                                                  Tüketim Malzemeleri > Toner > XEROX       0.00      0.00      0.00         0\n",
      "                                                                                           Tüketim Ürünleri > Sarf Malzemeler > Toner       1.00      1.00      1.00         1\n",
      "                                                                                                                       Ultrabook > HP       0.00      0.00      0.00         1\n",
      "                                                                                                    Veri Depolama > Harici Sabit Disk       0.00      0.00      0.00         1\n",
      "                                                                                                                  Video Kamera > SONY       0.00      0.00      0.00         1\n",
      "                                                                                                        Yazılım > Oyunlar > PC > ARAL       0.00      0.00      0.00         2\n",
      "                                                                                       Yazılım > İşletim Sistemleri > Oem > MICROSOFT       0.00      0.00      0.00         1\n",
      "                                                                                       Zalman CNPS11X Performa Intel/AMD CPU Soğutucu       0.00      0.00      0.00         1\n",
      "                                                                                                          iPod > iPod shuffle > Apple       0.00      0.00      0.00         0\n",
      "                                                                                                            Çevre Birimler > Hoparlör       0.00      0.00      0.00         0\n",
      "                                                                                                        Çevre Birimler > Kart Okuyucu       0.00      0.00      0.00         0\n",
      "                                                                                                             Çevre Birimler > Monitör       0.00      0.00      0.00         0\n",
      "                                                                                  Çevre Birimleri > Hoparlör Speaker > 2+1 > CREATIVE       0.00      0.00      0.00         0\n",
      "                                                                                   Çevre Birimleri > Hoparlör Speaker > 2+1 > EDIFIER       0.00      0.00      0.00         1\n",
      "                                                                      Çevre Birimleri > Hoparlör Speaker > Bluetooth Hoparlör > iHOME       0.00      0.00      0.00         1\n",
      "                                                                   Çevre Birimleri > Kesintisiz Güç Kaynakları > On Line > POWERSONIC       0.00      0.00      0.00         1\n",
      "                                                                                                                          Ütü > TEFAL       0.00      0.00      0.00         1\n",
      "                                                                                                İnternet - Ağ Ürünleri > Access Point       0.00      0.00      0.00         1\n",
      "                                                                                                       İnternet - Ağ Ürünleri > Modem       0.00      0.00      0.00         0\n",
      "\n",
      "                                                                                                                             accuracy                           0.26       155\n",
      "                                                                                                                            macro avg       0.15      0.15      0.15       155\n",
      "                                                                                                                         weighted avg       0.26      0.26      0.26       155\n",
      "\n"
     ]
    },
    {
     "name": "stderr",
     "output_type": "stream",
     "text": [
      "/opt/anaconda3/envs/ml/lib/python3.12/site-packages/sklearn/metrics/_classification.py:1469: UndefinedMetricWarning: Precision and F-score are ill-defined and being set to 0.0 in labels with no predicted samples. Use `zero_division` parameter to control this behavior.\n",
      "  _warn_prf(average, modifier, msg_start, len(result))\n",
      "/opt/anaconda3/envs/ml/lib/python3.12/site-packages/sklearn/metrics/_classification.py:1469: UndefinedMetricWarning: Recall and F-score are ill-defined and being set to 0.0 in labels with no true samples. Use `zero_division` parameter to control this behavior.\n",
      "  _warn_prf(average, modifier, msg_start, len(result))\n",
      "/opt/anaconda3/envs/ml/lib/python3.12/site-packages/sklearn/metrics/_classification.py:1469: UndefinedMetricWarning: Precision and F-score are ill-defined and being set to 0.0 in labels with no predicted samples. Use `zero_division` parameter to control this behavior.\n",
      "  _warn_prf(average, modifier, msg_start, len(result))\n",
      "/opt/anaconda3/envs/ml/lib/python3.12/site-packages/sklearn/metrics/_classification.py:1469: UndefinedMetricWarning: Recall and F-score are ill-defined and being set to 0.0 in labels with no true samples. Use `zero_division` parameter to control this behavior.\n",
      "  _warn_prf(average, modifier, msg_start, len(result))\n",
      "/opt/anaconda3/envs/ml/lib/python3.12/site-packages/sklearn/metrics/_classification.py:1469: UndefinedMetricWarning: Precision and F-score are ill-defined and being set to 0.0 in labels with no predicted samples. Use `zero_division` parameter to control this behavior.\n",
      "  _warn_prf(average, modifier, msg_start, len(result))\n",
      "/opt/anaconda3/envs/ml/lib/python3.12/site-packages/sklearn/metrics/_classification.py:1469: UndefinedMetricWarning: Recall and F-score are ill-defined and being set to 0.0 in labels with no true samples. Use `zero_division` parameter to control this behavior.\n",
      "  _warn_prf(average, modifier, msg_start, len(result))\n"
     ]
    }
   ],
   "source": [
    "print(\"Random Forest Sınıflandırma Raporu:\")\n",
    "print(classification_report(y_test, y_pred_rf))"
   ]
  },
  {
   "cell_type": "code",
   "execution_count": 51,
   "id": "18949601-271e-4834-8bb9-0da1c4ecc0d5",
   "metadata": {},
   "outputs": [
    {
     "data": {
      "text/plain": [
       "['./models/tfidf_vectorizer.joblib']"
      ]
     },
     "execution_count": 51,
     "metadata": {},
     "output_type": "execute_result"
    }
   ],
   "source": [
    "# Modeli ve vectorizer'ı kaydetme\n",
    "dump(best_rf_model, './models/random_forest_model.joblib')\n",
    "dump(vectorizer, './models/tfidf_vectorizer.joblib')"
   ]
  },
  {
   "cell_type": "markdown",
   "id": "dca440ad-8394-4a85-b00c-e64c8a41be2a",
   "metadata": {},
   "source": [
    "#### Random forest modelinde ise doğruluğu: 0.264, F1 skoru: 0.260 \n",
    "#### Random Forest, Logistic Regression'a göre daha yüksek bir doğruluk oranına sahip. Bu, modelin test veri setindeki doğru sınıflandırmalarının daha fazla olduğunu gösterir. Random Forest'ın daha yüksek bir F1 skoruna sahip olması, hem doğru pozitifleri daha iyi yakaladığını hem de yanlış pozitiflerin sayısını daha düşük tuttuğunu gösterir. Bu yüzden Random Forest modelini kullanıcam."
   ]
  },
  {
   "cell_type": "code",
   "execution_count": null,
   "id": "131d0d78-302a-41f8-8b28-13a960a937e6",
   "metadata": {},
   "outputs": [],
   "source": []
  }
 ],
 "metadata": {
  "kernelspec": {
   "display_name": "Python 3 (ipykernel)",
   "language": "python",
   "name": "python3"
  },
  "language_info": {
   "codemirror_mode": {
    "name": "ipython",
    "version": 3
   },
   "file_extension": ".py",
   "mimetype": "text/x-python",
   "name": "python",
   "nbconvert_exporter": "python",
   "pygments_lexer": "ipython3",
   "version": "3.12.4"
  }
 },
 "nbformat": 4,
 "nbformat_minor": 5
}
